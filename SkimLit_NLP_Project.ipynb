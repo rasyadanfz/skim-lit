{
  "cells": [
    {
      "cell_type": "markdown",
      "metadata": {
        "id": "-XR5d4YCE90H"
      },
      "source": [
        "# SkimLit\n",
        "SkimLit is a project that aims to build an NLP model to make PubMed RCT abstract easier to read by classifying sentences in the abstract into the right section.\n",
        "\n",
        "This project is based on the paper \"PubMed 200k RCT: a Dataset for Sequential Sentence Classification in Medical Abstracts\" available at https://arxiv.org/abs/1710.06071\n",
        "\n",
        "Dataset: PubMed 200K RCT Dataset\\\n",
        "Available at: https://github.com/Franck-Dernoncourt/pubmed-rct\n",
        "\n",
        "by : Rasyadan Faza"
      ]
    },
    {
      "cell_type": "markdown",
      "metadata": {
        "id": "XptR0epSFFld"
      },
      "source": [
        "## Get and Check Dataset"
      ]
    },
    {
      "cell_type": "code",
      "execution_count": 1,
      "metadata": {
        "colab": {
          "base_uri": "https://localhost:8080/"
        },
        "id": "b2E0NJIBLguf",
        "outputId": "ee51e9ac-2d3a-4cec-aa41-74685c46a57d"
      },
      "outputs": [
        {
          "output_type": "stream",
          "name": "stdout",
          "text": [
            "Cloning into 'pubmed-rct'...\n",
            "remote: Enumerating objects: 39, done.\u001b[K\n",
            "remote: Counting objects: 100% (14/14), done.\u001b[K\n",
            "remote: Compressing objects: 100% (9/9), done.\u001b[K\n",
            "remote: Total 39 (delta 8), reused 5 (delta 5), pack-reused 25\u001b[K\n",
            "Receiving objects: 100% (39/39), 177.08 MiB | 21.30 MiB/s, done.\n",
            "Resolving deltas: 100% (15/15), done.\n",
            "Updating files: 100% (13/13), done.\n",
            "PubMed_200k_RCT\t\t\t\t       PubMed_20k_RCT_numbers_replaced_with_at_sign\n",
            "PubMed_200k_RCT_numbers_replaced_with_at_sign  README.md\n",
            "PubMed_20k_RCT\n"
          ]
        }
      ],
      "source": [
        "# Get the dataset from the github repository\n",
        "!git clone https://github.com/Franck-Dernoncourt/pubmed-rct.git\n",
        "!ls pubmed-rct"
      ]
    },
    {
      "cell_type": "markdown",
      "metadata": {
        "id": "lJFVRfZFL5ke"
      },
      "source": [
        "**This project only uses the 20k dataset although it can be scaled to use the full 200k dataset**"
      ]
    },
    {
      "cell_type": "code",
      "execution_count": 2,
      "metadata": {
        "colab": {
          "base_uri": "https://localhost:8080/"
        },
        "id": "xaP3S92DMZ60",
        "outputId": "8b8a33dc-dfa1-43f0-d707-f904755e18a4"
      },
      "outputs": [
        {
          "output_type": "stream",
          "name": "stdout",
          "text": [
            "dev.txt  test.txt  train.txt\n"
          ]
        }
      ],
      "source": [
        "# Check files in PubMed_20K dataset\n",
        "!ls pubmed-rct/PubMed_20k_RCT_numbers_replaced_with_at_sign/"
      ]
    },
    {
      "cell_type": "code",
      "execution_count": 3,
      "metadata": {
        "id": "qZGySJmVNLLO"
      },
      "outputs": [],
      "source": [
        "# Set the data to use\n",
        "data_dir_20k = \"pubmed-rct/PubMed_20k_RCT_numbers_replaced_with_at_sign\""
      ]
    },
    {
      "cell_type": "code",
      "execution_count": 4,
      "metadata": {
        "colab": {
          "base_uri": "https://localhost:8080/"
        },
        "id": "nkgFOnTRNf5B",
        "outputId": "ce889b07-ad07-4314-f046-d2e268841cb3"
      },
      "outputs": [
        {
          "output_type": "execute_result",
          "data": {
            "text/plain": [
              "['pubmed-rct/PubMed_20k_RCT_numbers_replaced_with_at_signtest.txt',\n",
              " 'pubmed-rct/PubMed_20k_RCT_numbers_replaced_with_at_signtrain.txt',\n",
              " 'pubmed-rct/PubMed_20k_RCT_numbers_replaced_with_at_signdev.txt']"
            ]
          },
          "metadata": {},
          "execution_count": 4
        }
      ],
      "source": [
        "# Check the filenames in the target directory\n",
        "import os\n",
        "filenames = [data_dir_20k + filename for filename in os.listdir(data_dir_20k)]\n",
        "filenames"
      ]
    },
    {
      "cell_type": "markdown",
      "metadata": {
        "id": "cd5qQEwqN6nY"
      },
      "source": [
        "## Data Exploration & Preparation"
      ]
    },
    {
      "cell_type": "code",
      "execution_count": 5,
      "metadata": {
        "id": "0uYjmaCIN8d0"
      },
      "outputs": [],
      "source": [
        "# Function to read all the lines in a text file\n",
        "def get_file_lines(filename):\n",
        "  \"\"\"\n",
        "  Reads a text filename and returns the lines of the text as a list.\n",
        "\n",
        "  Args:\n",
        "      filename: a string containing path to target file\n",
        "\n",
        "  Returns:\n",
        "      A list of string with one string per line from the target file\n",
        "  \"\"\"\n",
        "\n",
        "  with open(filename, 'r') as file:\n",
        "    return file.readlines()"
      ]
    },
    {
      "cell_type": "code",
      "execution_count": 6,
      "metadata": {
        "colab": {
          "base_uri": "https://localhost:8080/"
        },
        "id": "7RoI-gw6Z2sY",
        "outputId": "4bc9ec7a-5fa9-4468-f8cd-bcec5c6599eb"
      },
      "outputs": [
        {
          "output_type": "execute_result",
          "data": {
            "text/plain": [
              "['###24293578\\n',\n",
              " 'OBJECTIVE\\tTo investigate the efficacy of @ weeks of daily low-dose oral prednisolone in improving pain , mobility , and systemic low-grade inflammation in the short term and whether the effect would be sustained at @ weeks in older adults with moderate to severe knee osteoarthritis ( OA ) .\\n',\n",
              " 'METHODS\\tA total of @ patients with primary knee OA were randomized @:@ ; @ received @ mg/day of prednisolone and @ received placebo for @ weeks .\\n',\n",
              " 'METHODS\\tOutcome measures included pain reduction and improvement in function scores and systemic inflammation markers .\\n',\n",
              " 'METHODS\\tPain was assessed using the visual analog pain scale ( @-@ mm ) .\\n',\n",
              " 'METHODS\\tSecondary outcome measures included the Western Ontario and McMaster Universities Osteoarthritis Index scores , patient global assessment ( PGA ) of the severity of knee OA , and @-min walk distance ( @MWD ) .\\n',\n",
              " 'METHODS\\tSerum levels of interleukin @ ( IL-@ ) , IL-@ , tumor necrosis factor ( TNF ) - , and high-sensitivity C-reactive protein ( hsCRP ) were measured .\\n',\n",
              " 'RESULTS\\tThere was a clinically relevant reduction in the intervention group compared to the placebo group for knee pain , physical function , PGA , and @MWD at @ weeks .\\n',\n",
              " 'RESULTS\\tThe mean difference between treatment arms ( @ % CI ) was @ ( @-@ @ ) , p < @ ; @ ( @-@ @ ) , p < @ ; @ ( @-@ @ ) , p < @ ; and @ ( @-@ @ ) , p < @ , respectively .\\n',\n",
              " 'RESULTS\\tFurther , there was a clinically relevant reduction in the serum levels of IL-@ , IL-@ , TNF - , and hsCRP at @ weeks in the intervention group when compared to the placebo group .\\n',\n",
              " 'RESULTS\\tThese differences remained significant at @ weeks .\\n',\n",
              " 'RESULTS\\tThe Outcome Measures in Rheumatology Clinical Trials-Osteoarthritis Research Society International responder rate was @ % in the intervention group and @ % in the placebo group ( p < @ ) .\\n',\n",
              " 'CONCLUSIONS\\tLow-dose oral prednisolone had both a short-term and a longer sustained effect resulting in less knee pain , better physical function , and attenuation of systemic inflammation in older patients with knee OA ( ClinicalTrials.gov identifier NCT@ ) .\\n',\n",
              " '\\n',\n",
              " '###24854809\\n',\n",
              " 'BACKGROUND\\tEmotional eating is associated with overeating and the development of obesity .\\n',\n",
              " 'BACKGROUND\\tYet , empirical evidence for individual ( trait ) differences in emotional eating and cognitive mechanisms that contribute to eating during sad mood remain equivocal .\\n',\n",
              " 'OBJECTIVE\\tThe aim of this study was to test if attention bias for food moderates the effect of self-reported emotional eating during sad mood ( vs neutral mood ) on actual food intake .\\n',\n",
              " 'OBJECTIVE\\tIt was expected that emotional eating is predictive of elevated attention for food and higher food intake after an experimentally induced sad mood and that attentional maintenance on food predicts food intake during a sad versus a neutral mood .\\n',\n",
              " 'METHODS\\tParticipants ( N = @ ) were randomly assigned to one of the two experimental mood induction conditions ( sad/neutral ) .\\n']"
            ]
          },
          "metadata": {},
          "execution_count": 6
        }
      ],
      "source": [
        "# Read the training.txt lines\n",
        "train_lines = get_file_lines(data_dir_20k + \"/train.txt\")\n",
        "train_lines[:20]"
      ]
    },
    {
      "cell_type": "markdown",
      "metadata": {
        "id": "Wt9YfPv9aPDw"
      },
      "source": [
        "**HIghlight**\n",
        "\n",
        "* Each abstract is separated by ### followed by its id\n",
        "* Each sentence has its label at the start of the sentence separated by a tab (\\t)\n",
        "* Each abstract ended with a newline (\\n)\n",
        "* Every number is replace by an `@` sign"
      ]
    },
    {
      "cell_type": "code",
      "execution_count": 7,
      "metadata": {
        "colab": {
          "base_uri": "https://localhost:8080/"
        },
        "id": "L3B5OcCWa5bM",
        "outputId": "9eed4823-01c1-412d-fef0-f21ed097e1d5"
      },
      "outputs": [
        {
          "output_type": "execute_result",
          "data": {
            "text/plain": [
              "210040"
            ]
          },
          "metadata": {},
          "execution_count": 7
        }
      ],
      "source": [
        "# Length of train lines\n",
        "len(train_lines)"
      ]
    },
    {
      "cell_type": "markdown",
      "metadata": {
        "id": "U2ALRxQebAPT"
      },
      "source": [
        "For every line in the train lines, create a list of dictionary for each sentence that contains:\n",
        "```\n",
        "{\n",
        "  'line_num': the line number the sentence is at,\n",
        "  'target': target label of the sentence in the line,\n",
        "  'text': content of the sentence,\n",
        "  'total_lines': total number of lines in each abstract\n",
        "}\n",
        "```"
      ]
    },
    {
      "cell_type": "code",
      "execution_count": 8,
      "metadata": {
        "id": "42My8OuTcDnd"
      },
      "outputs": [],
      "source": [
        "# Create data preprocessing function\n",
        "def preprocess_data(filename):\n",
        "  input_lines = get_file_lines(filename)\n",
        "  abstract_lines = \"\"\n",
        "  abstract_samples = []\n",
        "\n",
        "  # Loop through each line in target file\n",
        "  for line in input_lines:\n",
        "    if (line.startswith(\"###\")): # start of an abstract\n",
        "      abstract_id = line\n",
        "      abstract_lines = \"\"\n",
        "    elif(line.isspace()): #if line is the end of the abstract\n",
        "      abstract_line_split = abstract_lines.splitlines() # split abstract into separate lines\n",
        "\n",
        "      # Iterate through each line in a single abstract\n",
        "      for abstract_line_num, abstract_line in enumerate(abstract_line_split):\n",
        "        line_data = {}\n",
        "        target_text_split = abstract_line.split(\"\\t\") # split target label from text\n",
        "        line_data[\"line_num\"] = abstract_line_num\n",
        "        line_data[\"target\"] = target_text_split[0]\n",
        "        line_data[\"text\"] = target_text_split[1].lower()\n",
        "        line_data[\"total_lines\"] = len(abstract_line_split) - 1 # total lines in the target abstract (start from 0)\n",
        "        abstract_samples.append(line_data)\n",
        "    else:\n",
        "      abstract_lines += line\n",
        "\n",
        "  return abstract_samples"
      ]
    },
    {
      "cell_type": "code",
      "execution_count": 9,
      "metadata": {
        "colab": {
          "base_uri": "https://localhost:8080/"
        },
        "id": "Fwte_YYrfMNX",
        "outputId": "ff236ba9-1eae-4613-9dd3-7884f412f1ef"
      },
      "outputs": [
        {
          "output_type": "stream",
          "name": "stdout",
          "text": [
            "CPU times: user 751 ms, sys: 111 ms, total: 863 ms\n",
            "Wall time: 1.14 s\n"
          ]
        }
      ],
      "source": [
        "%%time\n",
        "# Get data from file and preprocess it\n",
        "train_samples = preprocess_data(data_dir_20k + \"/train.txt\")\n",
        "val_samples = preprocess_data(data_dir_20k + \"/dev.txt\")\n",
        "test_samples = preprocess_data(data_dir_20k + \"/test.txt\")"
      ]
    },
    {
      "cell_type": "code",
      "execution_count": 10,
      "metadata": {
        "colab": {
          "base_uri": "https://localhost:8080/"
        },
        "id": "7_5Lv9BhfkvJ",
        "outputId": "54ca7cbf-a03f-44e9-fde5-d608b1e9e28c"
      },
      "outputs": [
        {
          "output_type": "execute_result",
          "data": {
            "text/plain": [
              "(180040, 30212, 180040)"
            ]
          },
          "metadata": {},
          "execution_count": 10
        }
      ],
      "source": [
        "len(train_samples), len(val_samples), len(train_samples)"
      ]
    },
    {
      "cell_type": "code",
      "execution_count": 11,
      "metadata": {
        "colab": {
          "base_uri": "https://localhost:8080/"
        },
        "id": "mQ1ImAYGfwbx",
        "outputId": "3b22382d-56b4-4274-bae0-16fba964b07b"
      },
      "outputs": [
        {
          "output_type": "execute_result",
          "data": {
            "text/plain": [
              "[{'line_num': 0,\n",
              "  'target': 'OBJECTIVE',\n",
              "  'text': 'to investigate the efficacy of @ weeks of daily low-dose oral prednisolone in improving pain , mobility , and systemic low-grade inflammation in the short term and whether the effect would be sustained at @ weeks in older adults with moderate to severe knee osteoarthritis ( oa ) .',\n",
              "  'total_lines': 11},\n",
              " {'line_num': 1,\n",
              "  'target': 'METHODS',\n",
              "  'text': 'a total of @ patients with primary knee oa were randomized @:@ ; @ received @ mg/day of prednisolone and @ received placebo for @ weeks .',\n",
              "  'total_lines': 11},\n",
              " {'line_num': 2,\n",
              "  'target': 'METHODS',\n",
              "  'text': 'outcome measures included pain reduction and improvement in function scores and systemic inflammation markers .',\n",
              "  'total_lines': 11},\n",
              " {'line_num': 3,\n",
              "  'target': 'METHODS',\n",
              "  'text': 'pain was assessed using the visual analog pain scale ( @-@ mm ) .',\n",
              "  'total_lines': 11},\n",
              " {'line_num': 4,\n",
              "  'target': 'METHODS',\n",
              "  'text': 'secondary outcome measures included the western ontario and mcmaster universities osteoarthritis index scores , patient global assessment ( pga ) of the severity of knee oa , and @-min walk distance ( @mwd ) .',\n",
              "  'total_lines': 11},\n",
              " {'line_num': 5,\n",
              "  'target': 'METHODS',\n",
              "  'text': 'serum levels of interleukin @ ( il-@ ) , il-@ , tumor necrosis factor ( tnf ) - , and high-sensitivity c-reactive protein ( hscrp ) were measured .',\n",
              "  'total_lines': 11},\n",
              " {'line_num': 6,\n",
              "  'target': 'RESULTS',\n",
              "  'text': 'there was a clinically relevant reduction in the intervention group compared to the placebo group for knee pain , physical function , pga , and @mwd at @ weeks .',\n",
              "  'total_lines': 11},\n",
              " {'line_num': 7,\n",
              "  'target': 'RESULTS',\n",
              "  'text': 'the mean difference between treatment arms ( @ % ci ) was @ ( @-@ @ ) , p < @ ; @ ( @-@ @ ) , p < @ ; @ ( @-@ @ ) , p < @ ; and @ ( @-@ @ ) , p < @ , respectively .',\n",
              "  'total_lines': 11},\n",
              " {'line_num': 8,\n",
              "  'target': 'RESULTS',\n",
              "  'text': 'further , there was a clinically relevant reduction in the serum levels of il-@ , il-@ , tnf - , and hscrp at @ weeks in the intervention group when compared to the placebo group .',\n",
              "  'total_lines': 11},\n",
              " {'line_num': 9,\n",
              "  'target': 'RESULTS',\n",
              "  'text': 'these differences remained significant at @ weeks .',\n",
              "  'total_lines': 11},\n",
              " {'line_num': 10,\n",
              "  'target': 'RESULTS',\n",
              "  'text': 'the outcome measures in rheumatology clinical trials-osteoarthritis research society international responder rate was @ % in the intervention group and @ % in the placebo group ( p < @ ) .',\n",
              "  'total_lines': 11},\n",
              " {'line_num': 11,\n",
              "  'target': 'CONCLUSIONS',\n",
              "  'text': 'low-dose oral prednisolone had both a short-term and a longer sustained effect resulting in less knee pain , better physical function , and attenuation of systemic inflammation in older patients with knee oa ( clinicaltrials.gov identifier nct@ ) .',\n",
              "  'total_lines': 11},\n",
              " {'line_num': 0,\n",
              "  'target': 'BACKGROUND',\n",
              "  'text': 'emotional eating is associated with overeating and the development of obesity .',\n",
              "  'total_lines': 10},\n",
              " {'line_num': 1,\n",
              "  'target': 'BACKGROUND',\n",
              "  'text': 'yet , empirical evidence for individual ( trait ) differences in emotional eating and cognitive mechanisms that contribute to eating during sad mood remain equivocal .',\n",
              "  'total_lines': 10},\n",
              " {'line_num': 2,\n",
              "  'target': 'OBJECTIVE',\n",
              "  'text': 'the aim of this study was to test if attention bias for food moderates the effect of self-reported emotional eating during sad mood ( vs neutral mood ) on actual food intake .',\n",
              "  'total_lines': 10}]"
            ]
          },
          "metadata": {},
          "execution_count": 11
        }
      ],
      "source": [
        "# Check samples of training data\n",
        "train_samples[:15]"
      ]
    },
    {
      "cell_type": "code",
      "execution_count": 12,
      "metadata": {
        "colab": {
          "base_uri": "https://localhost:8080/",
          "height": 0
        },
        "id": "3psc0kDHgTjj",
        "outputId": "b9109254-a5e5-43a4-bc3f-ff5b67fb7a81"
      },
      "outputs": [
        {
          "output_type": "execute_result",
          "data": {
            "text/plain": [
              "    line_num       target                                               text  \\\n",
              "0          0    OBJECTIVE  to investigate the efficacy of @ weeks of dail...   \n",
              "1          1      METHODS  a total of @ patients with primary knee oa wer...   \n",
              "2          2      METHODS  outcome measures included pain reduction and i...   \n",
              "3          3      METHODS  pain was assessed using the visual analog pain...   \n",
              "4          4      METHODS  secondary outcome measures included the wester...   \n",
              "5          5      METHODS  serum levels of interleukin @ ( il-@ ) , il-@ ...   \n",
              "6          6      RESULTS  there was a clinically relevant reduction in t...   \n",
              "7          7      RESULTS  the mean difference between treatment arms ( @...   \n",
              "8          8      RESULTS  further , there was a clinically relevant redu...   \n",
              "9          9      RESULTS  these differences remained significant at @ we...   \n",
              "10        10      RESULTS  the outcome measures in rheumatology clinical ...   \n",
              "11        11  CONCLUSIONS  low-dose oral prednisolone had both a short-te...   \n",
              "12         0   BACKGROUND  emotional eating is associated with overeating...   \n",
              "13         1   BACKGROUND  yet , empirical evidence for individual ( trai...   \n",
              "14         2    OBJECTIVE  the aim of this study was to test if attention...   \n",
              "\n",
              "    total_lines  \n",
              "0            11  \n",
              "1            11  \n",
              "2            11  \n",
              "3            11  \n",
              "4            11  \n",
              "5            11  \n",
              "6            11  \n",
              "7            11  \n",
              "8            11  \n",
              "9            11  \n",
              "10           11  \n",
              "11           11  \n",
              "12           10  \n",
              "13           10  \n",
              "14           10  "
            ],
            "text/html": [
              "\n",
              "  <div id=\"df-2b7235b4-cb6a-426a-984c-7ddf67f2342c\" class=\"colab-df-container\">\n",
              "    <div>\n",
              "<style scoped>\n",
              "    .dataframe tbody tr th:only-of-type {\n",
              "        vertical-align: middle;\n",
              "    }\n",
              "\n",
              "    .dataframe tbody tr th {\n",
              "        vertical-align: top;\n",
              "    }\n",
              "\n",
              "    .dataframe thead th {\n",
              "        text-align: right;\n",
              "    }\n",
              "</style>\n",
              "<table border=\"1\" class=\"dataframe\">\n",
              "  <thead>\n",
              "    <tr style=\"text-align: right;\">\n",
              "      <th></th>\n",
              "      <th>line_num</th>\n",
              "      <th>target</th>\n",
              "      <th>text</th>\n",
              "      <th>total_lines</th>\n",
              "    </tr>\n",
              "  </thead>\n",
              "  <tbody>\n",
              "    <tr>\n",
              "      <th>0</th>\n",
              "      <td>0</td>\n",
              "      <td>OBJECTIVE</td>\n",
              "      <td>to investigate the efficacy of @ weeks of dail...</td>\n",
              "      <td>11</td>\n",
              "    </tr>\n",
              "    <tr>\n",
              "      <th>1</th>\n",
              "      <td>1</td>\n",
              "      <td>METHODS</td>\n",
              "      <td>a total of @ patients with primary knee oa wer...</td>\n",
              "      <td>11</td>\n",
              "    </tr>\n",
              "    <tr>\n",
              "      <th>2</th>\n",
              "      <td>2</td>\n",
              "      <td>METHODS</td>\n",
              "      <td>outcome measures included pain reduction and i...</td>\n",
              "      <td>11</td>\n",
              "    </tr>\n",
              "    <tr>\n",
              "      <th>3</th>\n",
              "      <td>3</td>\n",
              "      <td>METHODS</td>\n",
              "      <td>pain was assessed using the visual analog pain...</td>\n",
              "      <td>11</td>\n",
              "    </tr>\n",
              "    <tr>\n",
              "      <th>4</th>\n",
              "      <td>4</td>\n",
              "      <td>METHODS</td>\n",
              "      <td>secondary outcome measures included the wester...</td>\n",
              "      <td>11</td>\n",
              "    </tr>\n",
              "    <tr>\n",
              "      <th>5</th>\n",
              "      <td>5</td>\n",
              "      <td>METHODS</td>\n",
              "      <td>serum levels of interleukin @ ( il-@ ) , il-@ ...</td>\n",
              "      <td>11</td>\n",
              "    </tr>\n",
              "    <tr>\n",
              "      <th>6</th>\n",
              "      <td>6</td>\n",
              "      <td>RESULTS</td>\n",
              "      <td>there was a clinically relevant reduction in t...</td>\n",
              "      <td>11</td>\n",
              "    </tr>\n",
              "    <tr>\n",
              "      <th>7</th>\n",
              "      <td>7</td>\n",
              "      <td>RESULTS</td>\n",
              "      <td>the mean difference between treatment arms ( @...</td>\n",
              "      <td>11</td>\n",
              "    </tr>\n",
              "    <tr>\n",
              "      <th>8</th>\n",
              "      <td>8</td>\n",
              "      <td>RESULTS</td>\n",
              "      <td>further , there was a clinically relevant redu...</td>\n",
              "      <td>11</td>\n",
              "    </tr>\n",
              "    <tr>\n",
              "      <th>9</th>\n",
              "      <td>9</td>\n",
              "      <td>RESULTS</td>\n",
              "      <td>these differences remained significant at @ we...</td>\n",
              "      <td>11</td>\n",
              "    </tr>\n",
              "    <tr>\n",
              "      <th>10</th>\n",
              "      <td>10</td>\n",
              "      <td>RESULTS</td>\n",
              "      <td>the outcome measures in rheumatology clinical ...</td>\n",
              "      <td>11</td>\n",
              "    </tr>\n",
              "    <tr>\n",
              "      <th>11</th>\n",
              "      <td>11</td>\n",
              "      <td>CONCLUSIONS</td>\n",
              "      <td>low-dose oral prednisolone had both a short-te...</td>\n",
              "      <td>11</td>\n",
              "    </tr>\n",
              "    <tr>\n",
              "      <th>12</th>\n",
              "      <td>0</td>\n",
              "      <td>BACKGROUND</td>\n",
              "      <td>emotional eating is associated with overeating...</td>\n",
              "      <td>10</td>\n",
              "    </tr>\n",
              "    <tr>\n",
              "      <th>13</th>\n",
              "      <td>1</td>\n",
              "      <td>BACKGROUND</td>\n",
              "      <td>yet , empirical evidence for individual ( trai...</td>\n",
              "      <td>10</td>\n",
              "    </tr>\n",
              "    <tr>\n",
              "      <th>14</th>\n",
              "      <td>2</td>\n",
              "      <td>OBJECTIVE</td>\n",
              "      <td>the aim of this study was to test if attention...</td>\n",
              "      <td>10</td>\n",
              "    </tr>\n",
              "  </tbody>\n",
              "</table>\n",
              "</div>\n",
              "    <div class=\"colab-df-buttons\">\n",
              "\n",
              "  <div class=\"colab-df-container\">\n",
              "    <button class=\"colab-df-convert\" onclick=\"convertToInteractive('df-2b7235b4-cb6a-426a-984c-7ddf67f2342c')\"\n",
              "            title=\"Convert this dataframe to an interactive table.\"\n",
              "            style=\"display:none;\">\n",
              "\n",
              "  <svg xmlns=\"http://www.w3.org/2000/svg\" height=\"24px\" viewBox=\"0 -960 960 960\">\n",
              "    <path d=\"M120-120v-720h720v720H120Zm60-500h600v-160H180v160Zm220 220h160v-160H400v160Zm0 220h160v-160H400v160ZM180-400h160v-160H180v160Zm440 0h160v-160H620v160ZM180-180h160v-160H180v160Zm440 0h160v-160H620v160Z\"/>\n",
              "  </svg>\n",
              "    </button>\n",
              "\n",
              "  <style>\n",
              "    .colab-df-container {\n",
              "      display:flex;\n",
              "      gap: 12px;\n",
              "    }\n",
              "\n",
              "    .colab-df-convert {\n",
              "      background-color: #E8F0FE;\n",
              "      border: none;\n",
              "      border-radius: 50%;\n",
              "      cursor: pointer;\n",
              "      display: none;\n",
              "      fill: #1967D2;\n",
              "      height: 32px;\n",
              "      padding: 0 0 0 0;\n",
              "      width: 32px;\n",
              "    }\n",
              "\n",
              "    .colab-df-convert:hover {\n",
              "      background-color: #E2EBFA;\n",
              "      box-shadow: 0px 1px 2px rgba(60, 64, 67, 0.3), 0px 1px 3px 1px rgba(60, 64, 67, 0.15);\n",
              "      fill: #174EA6;\n",
              "    }\n",
              "\n",
              "    .colab-df-buttons div {\n",
              "      margin-bottom: 4px;\n",
              "    }\n",
              "\n",
              "    [theme=dark] .colab-df-convert {\n",
              "      background-color: #3B4455;\n",
              "      fill: #D2E3FC;\n",
              "    }\n",
              "\n",
              "    [theme=dark] .colab-df-convert:hover {\n",
              "      background-color: #434B5C;\n",
              "      box-shadow: 0px 1px 3px 1px rgba(0, 0, 0, 0.15);\n",
              "      filter: drop-shadow(0px 1px 2px rgba(0, 0, 0, 0.3));\n",
              "      fill: #FFFFFF;\n",
              "    }\n",
              "  </style>\n",
              "\n",
              "    <script>\n",
              "      const buttonEl =\n",
              "        document.querySelector('#df-2b7235b4-cb6a-426a-984c-7ddf67f2342c button.colab-df-convert');\n",
              "      buttonEl.style.display =\n",
              "        google.colab.kernel.accessAllowed ? 'block' : 'none';\n",
              "\n",
              "      async function convertToInteractive(key) {\n",
              "        const element = document.querySelector('#df-2b7235b4-cb6a-426a-984c-7ddf67f2342c');\n",
              "        const dataTable =\n",
              "          await google.colab.kernel.invokeFunction('convertToInteractive',\n",
              "                                                    [key], {});\n",
              "        if (!dataTable) return;\n",
              "\n",
              "        const docLinkHtml = 'Like what you see? Visit the ' +\n",
              "          '<a target=\"_blank\" href=https://colab.research.google.com/notebooks/data_table.ipynb>data table notebook</a>'\n",
              "          + ' to learn more about interactive tables.';\n",
              "        element.innerHTML = '';\n",
              "        dataTable['output_type'] = 'display_data';\n",
              "        await google.colab.output.renderOutput(dataTable, element);\n",
              "        const docLink = document.createElement('div');\n",
              "        docLink.innerHTML = docLinkHtml;\n",
              "        element.appendChild(docLink);\n",
              "      }\n",
              "    </script>\n",
              "  </div>\n",
              "\n",
              "\n",
              "<div id=\"df-b86a4098-0f0a-42c2-a6d3-fefcf834eda4\">\n",
              "  <button class=\"colab-df-quickchart\" onclick=\"quickchart('df-b86a4098-0f0a-42c2-a6d3-fefcf834eda4')\"\n",
              "            title=\"Suggest charts\"\n",
              "            style=\"display:none;\">\n",
              "\n",
              "<svg xmlns=\"http://www.w3.org/2000/svg\" height=\"24px\"viewBox=\"0 0 24 24\"\n",
              "     width=\"24px\">\n",
              "    <g>\n",
              "        <path d=\"M19 3H5c-1.1 0-2 .9-2 2v14c0 1.1.9 2 2 2h14c1.1 0 2-.9 2-2V5c0-1.1-.9-2-2-2zM9 17H7v-7h2v7zm4 0h-2V7h2v10zm4 0h-2v-4h2v4z\"/>\n",
              "    </g>\n",
              "</svg>\n",
              "  </button>\n",
              "\n",
              "<style>\n",
              "  .colab-df-quickchart {\n",
              "      --bg-color: #E8F0FE;\n",
              "      --fill-color: #1967D2;\n",
              "      --hover-bg-color: #E2EBFA;\n",
              "      --hover-fill-color: #174EA6;\n",
              "      --disabled-fill-color: #AAA;\n",
              "      --disabled-bg-color: #DDD;\n",
              "  }\n",
              "\n",
              "  [theme=dark] .colab-df-quickchart {\n",
              "      --bg-color: #3B4455;\n",
              "      --fill-color: #D2E3FC;\n",
              "      --hover-bg-color: #434B5C;\n",
              "      --hover-fill-color: #FFFFFF;\n",
              "      --disabled-bg-color: #3B4455;\n",
              "      --disabled-fill-color: #666;\n",
              "  }\n",
              "\n",
              "  .colab-df-quickchart {\n",
              "    background-color: var(--bg-color);\n",
              "    border: none;\n",
              "    border-radius: 50%;\n",
              "    cursor: pointer;\n",
              "    display: none;\n",
              "    fill: var(--fill-color);\n",
              "    height: 32px;\n",
              "    padding: 0;\n",
              "    width: 32px;\n",
              "  }\n",
              "\n",
              "  .colab-df-quickchart:hover {\n",
              "    background-color: var(--hover-bg-color);\n",
              "    box-shadow: 0 1px 2px rgba(60, 64, 67, 0.3), 0 1px 3px 1px rgba(60, 64, 67, 0.15);\n",
              "    fill: var(--button-hover-fill-color);\n",
              "  }\n",
              "\n",
              "  .colab-df-quickchart-complete:disabled,\n",
              "  .colab-df-quickchart-complete:disabled:hover {\n",
              "    background-color: var(--disabled-bg-color);\n",
              "    fill: var(--disabled-fill-color);\n",
              "    box-shadow: none;\n",
              "  }\n",
              "\n",
              "  .colab-df-spinner {\n",
              "    border: 2px solid var(--fill-color);\n",
              "    border-color: transparent;\n",
              "    border-bottom-color: var(--fill-color);\n",
              "    animation:\n",
              "      spin 1s steps(1) infinite;\n",
              "  }\n",
              "\n",
              "  @keyframes spin {\n",
              "    0% {\n",
              "      border-color: transparent;\n",
              "      border-bottom-color: var(--fill-color);\n",
              "      border-left-color: var(--fill-color);\n",
              "    }\n",
              "    20% {\n",
              "      border-color: transparent;\n",
              "      border-left-color: var(--fill-color);\n",
              "      border-top-color: var(--fill-color);\n",
              "    }\n",
              "    30% {\n",
              "      border-color: transparent;\n",
              "      border-left-color: var(--fill-color);\n",
              "      border-top-color: var(--fill-color);\n",
              "      border-right-color: var(--fill-color);\n",
              "    }\n",
              "    40% {\n",
              "      border-color: transparent;\n",
              "      border-right-color: var(--fill-color);\n",
              "      border-top-color: var(--fill-color);\n",
              "    }\n",
              "    60% {\n",
              "      border-color: transparent;\n",
              "      border-right-color: var(--fill-color);\n",
              "    }\n",
              "    80% {\n",
              "      border-color: transparent;\n",
              "      border-right-color: var(--fill-color);\n",
              "      border-bottom-color: var(--fill-color);\n",
              "    }\n",
              "    90% {\n",
              "      border-color: transparent;\n",
              "      border-bottom-color: var(--fill-color);\n",
              "    }\n",
              "  }\n",
              "</style>\n",
              "\n",
              "  <script>\n",
              "    async function quickchart(key) {\n",
              "      const quickchartButtonEl =\n",
              "        document.querySelector('#' + key + ' button');\n",
              "      quickchartButtonEl.disabled = true;  // To prevent multiple clicks.\n",
              "      quickchartButtonEl.classList.add('colab-df-spinner');\n",
              "      try {\n",
              "        const charts = await google.colab.kernel.invokeFunction(\n",
              "            'suggestCharts', [key], {});\n",
              "      } catch (error) {\n",
              "        console.error('Error during call to suggestCharts:', error);\n",
              "      }\n",
              "      quickchartButtonEl.classList.remove('colab-df-spinner');\n",
              "      quickchartButtonEl.classList.add('colab-df-quickchart-complete');\n",
              "    }\n",
              "    (() => {\n",
              "      let quickchartButtonEl =\n",
              "        document.querySelector('#df-b86a4098-0f0a-42c2-a6d3-fefcf834eda4 button');\n",
              "      quickchartButtonEl.style.display =\n",
              "        google.colab.kernel.accessAllowed ? 'block' : 'none';\n",
              "    })();\n",
              "  </script>\n",
              "</div>\n",
              "    </div>\n",
              "  </div>\n"
            ],
            "application/vnd.google.colaboratory.intrinsic+json": {
              "type": "dataframe",
              "variable_name": "train_df"
            }
          },
          "metadata": {},
          "execution_count": 12
        }
      ],
      "source": [
        "# Format data into Pandas DataFrame\n",
        "import pandas as pd\n",
        "\n",
        "train_df = pd.DataFrame(train_samples)\n",
        "val_df = pd.DataFrame(val_samples)\n",
        "test_df = pd.DataFrame(test_samples)\n",
        "\n",
        "train_df.head(15)"
      ]
    },
    {
      "cell_type": "code",
      "execution_count": 13,
      "metadata": {
        "colab": {
          "base_uri": "https://localhost:8080/",
          "height": 0
        },
        "id": "h9r1cuX2gtz_",
        "outputId": "8672a138-1a77-47f9-f180-c460dffd96f4"
      },
      "outputs": [
        {
          "output_type": "execute_result",
          "data": {
            "text/plain": [
              "target\n",
              "METHODS        59353\n",
              "RESULTS        57953\n",
              "CONCLUSIONS    27168\n",
              "BACKGROUND     21727\n",
              "OBJECTIVE      13839\n",
              "Name: count, dtype: int64"
            ]
          },
          "metadata": {},
          "execution_count": 13
        },
        {
          "output_type": "display_data",
          "data": {
            "text/plain": [
              "<Figure size 640x480 with 1 Axes>"
            ],
            "image/png": "[encoded data removed]"
          },
          "metadata": {}
        }
      ],
      "source": [
        "# Check distribution of each labels\n",
        "train_df.target.value_counts().plot(kind=\"bar\");\n",
        "train_df.target.value_counts()"
      ]
    },
    {
      "cell_type": "code",
      "execution_count": 14,
      "metadata": {
        "colab": {
          "base_uri": "https://localhost:8080/",
          "height": 0
        },
        "id": "rGVaoT1vg_Gg",
        "outputId": "9c877489-7511-45f7-da61-7843f874c8e7"
      },
      "outputs": [
        {
          "output_type": "display_data",
          "data": {
            "text/plain": [
              "<Figure size 640x480 with 1 Axes>"
            ],
            "image/png": "[encoded data removed]"
          },
          "metadata": {}
        }
      ],
      "source": [
        "# Length of different lines\n",
        "train_df.total_lines.plot.hist();"
      ]
    },
    {
      "cell_type": "markdown",
      "metadata": {
        "id": "SR5lpO7dhi4k"
      },
      "source": [
        "### Get list of sentences"
      ]
    },
    {
      "cell_type": "code",
      "execution_count": 15,
      "metadata": {
        "colab": {
          "base_uri": "https://localhost:8080/"
        },
        "id": "U-7ntsmQhlvT",
        "outputId": "3542aa6c-d494-40b8-d60c-773a594bde92"
      },
      "outputs": [
        {
          "output_type": "execute_result",
          "data": {
            "text/plain": [
              "(180040, 30212, 30135)"
            ]
          },
          "metadata": {},
          "execution_count": 15
        }
      ],
      "source": [
        "# Convert text lines into list\n",
        "train_sentences = train_df.text.tolist()\n",
        "val_sentences = val_df.text.tolist()\n",
        "test_sentences = test_df.text.tolist()\n",
        "\n",
        "len(train_sentences), len(val_sentences), len(test_sentences)"
      ]
    },
    {
      "cell_type": "code",
      "execution_count": 16,
      "metadata": {
        "colab": {
          "base_uri": "https://localhost:8080/"
        },
        "id": "UYSZbU9xhzwR",
        "outputId": "fdb333d3-308b-40c8-a221-1f63ccdd790b"
      },
      "outputs": [
        {
          "output_type": "execute_result",
          "data": {
            "text/plain": [
              "['to investigate the efficacy of @ weeks of daily low-dose oral prednisolone in improving pain , mobility , and systemic low-grade inflammation in the short term and whether the effect would be sustained at @ weeks in older adults with moderate to severe knee osteoarthritis ( oa ) .',\n",
              " 'a total of @ patients with primary knee oa were randomized @:@ ; @ received @ mg/day of prednisolone and @ received placebo for @ weeks .',\n",
              " 'outcome measures included pain reduction and improvement in function scores and systemic inflammation markers .',\n",
              " 'pain was assessed using the visual analog pain scale ( @-@ mm ) .',\n",
              " 'secondary outcome measures included the western ontario and mcmaster universities osteoarthritis index scores , patient global assessment ( pga ) of the severity of knee oa , and @-min walk distance ( @mwd ) .',\n",
              " 'serum levels of interleukin @ ( il-@ ) , il-@ , tumor necrosis factor ( tnf ) - , and high-sensitivity c-reactive protein ( hscrp ) were measured .',\n",
              " 'there was a clinically relevant reduction in the intervention group compared to the placebo group for knee pain , physical function , pga , and @mwd at @ weeks .',\n",
              " 'the mean difference between treatment arms ( @ % ci ) was @ ( @-@ @ ) , p < @ ; @ ( @-@ @ ) , p < @ ; @ ( @-@ @ ) , p < @ ; and @ ( @-@ @ ) , p < @ , respectively .',\n",
              " 'further , there was a clinically relevant reduction in the serum levels of il-@ , il-@ , tnf - , and hscrp at @ weeks in the intervention group when compared to the placebo group .',\n",
              " 'these differences remained significant at @ weeks .']"
            ]
          },
          "metadata": {},
          "execution_count": 16
        }
      ],
      "source": [
        "# First 10 lines of train sentences\n",
        "train_sentences[:10]"
      ]
    },
    {
      "cell_type": "markdown",
      "metadata": {
        "id": "1FbBxA6Nh3qp"
      },
      "source": [
        "### Converting text data into numerical form"
      ]
    },
    {
      "cell_type": "code",
      "execution_count": 17,
      "metadata": {
        "colab": {
          "base_uri": "https://localhost:8080/"
        },
        "id": "bhtlykrMiXiH",
        "outputId": "853ac35d-081b-4d24-8324-a1b10803c65a"
      },
      "outputs": [
        {
          "output_type": "stream",
          "name": "stderr",
          "text": [
            "/usr/local/lib/python3.10/dist-packages/sklearn/preprocessing/_encoders.py:868: FutureWarning: `sparse` was renamed to `sparse_output` in version 1.2 and will be removed in 1.4. `sparse_output` is ignored unless you leave `sparse` to its default value.\n",
            "  warnings.warn(\n"
          ]
        },
        {
          "output_type": "execute_result",
          "data": {
            "text/plain": [
              "array([[0., 0., 0., 1., 0.],\n",
              "       [0., 0., 1., 0., 0.],\n",
              "       [0., 0., 1., 0., 0.],\n",
              "       ...,\n",
              "       [0., 0., 0., 0., 1.],\n",
              "       [0., 1., 0., 0., 0.],\n",
              "       [0., 1., 0., 0., 0.]])"
            ]
          },
          "metadata": {},
          "execution_count": 17
        }
      ],
      "source": [
        "# Convert labels into numerical form\n",
        "from sklearn.preprocessing import OneHotEncoder\n",
        "\n",
        "ohe = OneHotEncoder(sparse=False)\n",
        "train_labels_one_hot = ohe.fit_transform(train_df[\"target\"].to_numpy().reshape(-1, 1))\n",
        "val_labels_one_hot = ohe.transform(val_df[\"target\"].to_numpy().reshape(-1, 1))\n",
        "test_labels_one_hot = ohe.transform(test_df[\"target\"].to_numpy().reshape(-1, 1))\n",
        "\n",
        "# Check the training labels\n",
        "train_labels_one_hot"
      ]
    },
    {
      "cell_type": "markdown",
      "metadata": {
        "id": "y7odPunGjRTy"
      },
      "source": [
        "### Label encode target labels"
      ]
    },
    {
      "cell_type": "code",
      "execution_count": 18,
      "metadata": {
        "colab": {
          "base_uri": "https://localhost:8080/"
        },
        "id": "pCjkREgtj4r5",
        "outputId": "b865a5a5-f634-4bf4-e4ee-54b192c7f53c"
      },
      "outputs": [
        {
          "output_type": "execute_result",
          "data": {
            "text/plain": [
              "array([3, 2, 2, ..., 4, 1, 1])"
            ]
          },
          "metadata": {},
          "execution_count": 18
        }
      ],
      "source": [
        "# Convert labels into numerical form\n",
        "from sklearn.preprocessing import LabelEncoder\n",
        "\n",
        "le = LabelEncoder()\n",
        "train_labels_encoded = le.fit_transform(train_df[\"target\"].to_numpy())\n",
        "val_labels_encoded = le.transform(val_df[\"target\"].to_numpy())\n",
        "test_labels_encoded = le.transform(test_df[\"target\"].to_numpy())\n",
        "\n",
        "# Check the training labels\n",
        "train_labels_encoded"
      ]
    },
    {
      "cell_type": "code",
      "execution_count": 19,
      "metadata": {
        "colab": {
          "base_uri": "https://localhost:8080/"
        },
        "id": "slO9RsqokGBq",
        "outputId": "d29c47d8-5fea-44f9-c3a6-7273c91e9d91"
      },
      "outputs": [
        {
          "output_type": "execute_result",
          "data": {
            "text/plain": [
              "{'BACKGROUND': 0, 'CONCLUSIONS': 1, 'METHODS': 2, 'OBJECTIVE': 3, 'RESULTS': 4}"
            ]
          },
          "metadata": {},
          "execution_count": 19
        }
      ],
      "source": [
        "# Check mapping of labels\n",
        "dict(zip(le.classes_, le.transform(le.classes_)))"
      ]
    },
    {
      "cell_type": "markdown",
      "metadata": {
        "id": "5brn9ztfksrn"
      },
      "source": [
        "## Modelling Experimentation"
      ]
    },
    {
      "cell_type": "markdown",
      "metadata": {
        "id": "diccvMuQk_wt"
      },
      "source": [
        "Starting a series of modelling experiments with various models to see which one works best"
      ]
    },
    {
      "cell_type": "code",
      "execution_count": 20,
      "metadata": {
        "id": "yu8esu_rmMh3"
      },
      "outputs": [],
      "source": [
        "# Evaluation function\n",
        "from sklearn.metrics import accuracy_score, precision_recall_fscore_support\n",
        "def evaluate_results(y_true, y_pred):\n",
        "  \"\"\"\n",
        "  Output evaluation metrics (accuracy, precision, recall, and f1 score) of a binary classification model\n",
        "  \"\"\"\n",
        "\n",
        "  # Calculate model accuracy\n",
        "  model_acc = accuracy_score(y_true, y_pred)\n",
        "  # Calculate model precision, recall, and f1-score with weighted average\n",
        "  model_precision, model_recall, model_f1, _ = precision_recall_fscore_support(y_true, y_pred, average=\"weighted\")\n",
        "\n",
        "  return {\n",
        "      \"accuracy\": model_acc,\n",
        "      \"precision\": model_precision,\n",
        "      \"recall\": model_recall,\n",
        "      \"f1\": model_f1\n",
        "  }\n",
        "\n",
        "def get_model_res(model):\n",
        "  val_preds = model.predict(val_sentences)\n",
        "  return evaluate_results(val_labels_encoded, val_preds)"
      ]
    },
    {
      "cell_type": "markdown",
      "metadata": {
        "id": "sP9OoG9Tkuh3"
      },
      "source": [
        "### Model 0 (Baseline): TF-IDF Multinomial Naive Bayes Classifier"
      ]
    },
    {
      "cell_type": "code",
      "execution_count": 21,
      "metadata": {
        "id": "IQ60c9Gvk_a1"
      },
      "outputs": [],
      "source": [
        "from sklearn.feature_extraction.text import TfidfVectorizer\n",
        "from sklearn.naive_bayes import MultinomialNB\n",
        "from sklearn.pipeline import Pipeline"
      ]
    },
    {
      "cell_type": "code",
      "execution_count": 22,
      "metadata": {
        "colab": {
          "base_uri": "https://localhost:8080/",
          "height": 126
        },
        "id": "ZaIWJDMIlg5S",
        "outputId": "f5b04893-dad2-46f5-ea93-8459df267cf1"
      },
      "outputs": [
        {
          "output_type": "execute_result",
          "data": {
            "text/plain": [
              "Pipeline(steps=[('tf-idf', TfidfVectorizer()), ('clf', MultinomialNB())])"
            ],
            "text/html": [
              "<style>#sk-container-id-1 {color: black;background-color: white;}#sk-container-id-1 pre{padding: 0;}#sk-container-id-1 div.sk-toggleable {background-color: white;}#sk-container-id-1 label.sk-toggleable__label {cursor: pointer;display: block;width: 100%;margin-bottom: 0;padding: 0.3em;box-sizing: border-box;text-align: center;}#sk-container-id-1 label.sk-toggleable__label-arrow:before {content: \"▸\";float: left;margin-right: 0.25em;color: #696969;}#sk-container-id-1 label.sk-toggleable__label-arrow:hover:before {color: black;}#sk-container-id-1 div.sk-estimator:hover label.sk-toggleable__label-arrow:before {color: black;}#sk-container-id-1 div.sk-toggleable__content {max-height: 0;max-width: 0;overflow: hidden;text-align: left;background-color: #f0f8ff;}#sk-container-id-1 div.sk-toggleable__content pre {margin: 0.2em;color: black;border-radius: 0.25em;background-color: #f0f8ff;}#sk-container-id-1 input.sk-toggleable__control:checked~div.sk-toggleable__content {max-height: 200px;max-width: 100%;overflow: auto;}#sk-container-id-1 input.sk-toggleable__control:checked~label.sk-toggleable__label-arrow:before {content: \"▾\";}#sk-container-id-1 div.sk-estimator input.sk-toggleable__control:checked~label.sk-toggleable__label {background-color: #d4ebff;}#sk-container-id-1 div.sk-label input.sk-toggleable__control:checked~label.sk-toggleable__label {background-color: #d4ebff;}#sk-container-id-1 input.sk-hidden--visually {border: 0;clip: rect(1px 1px 1px 1px);clip: rect(1px, 1px, 1px, 1px);height: 1px;margin: -1px;overflow: hidden;padding: 0;position: absolute;width: 1px;}#sk-container-id-1 div.sk-estimator {font-family: monospace;background-color: #f0f8ff;border: 1px dotted black;border-radius: 0.25em;box-sizing: border-box;margin-bottom: 0.5em;}#sk-container-id-1 div.sk-estimator:hover {background-color: #d4ebff;}#sk-container-id-1 div.sk-parallel-item::after {content: \"\";width: 100%;border-bottom: 1px solid gray;flex-grow: 1;}#sk-container-id-1 div.sk-label:hover label.sk-toggleable__label {background-color: #d4ebff;}#sk-container-id-1 div.sk-serial::before {content: \"\";position: absolute;border-left: 1px solid gray;box-sizing: border-box;top: 0;bottom: 0;left: 50%;z-index: 0;}#sk-container-id-1 div.sk-serial {display: flex;flex-direction: column;align-items: center;background-color: white;padding-right: 0.2em;padding-left: 0.2em;position: relative;}#sk-container-id-1 div.sk-item {position: relative;z-index: 1;}#sk-container-id-1 div.sk-parallel {display: flex;align-items: stretch;justify-content: center;background-color: white;position: relative;}#sk-container-id-1 div.sk-item::before, #sk-container-id-1 div.sk-parallel-item::before {content: \"\";position: absolute;border-left: 1px solid gray;box-sizing: border-box;top: 0;bottom: 0;left: 50%;z-index: -1;}#sk-container-id-1 div.sk-parallel-item {display: flex;flex-direction: column;z-index: 1;position: relative;background-color: white;}#sk-container-id-1 div.sk-parallel-item:first-child::after {align-self: flex-end;width: 50%;}#sk-container-id-1 div.sk-parallel-item:last-child::after {align-self: flex-start;width: 50%;}#sk-container-id-1 div.sk-parallel-item:only-child::after {width: 0;}#sk-container-id-1 div.sk-dashed-wrapped {border: 1px dashed gray;margin: 0 0.4em 0.5em 0.4em;box-sizing: border-box;padding-bottom: 0.4em;background-color: white;}#sk-container-id-1 div.sk-label label {font-family: monospace;font-weight: bold;display: inline-block;line-height: 1.2em;}#sk-container-id-1 div.sk-label-container {text-align: center;}#sk-container-id-1 div.sk-container {/* jupyter's `normalize.less` sets `[hidden] { display: none; }` but bootstrap.min.css set `[hidden] { display: none !important; }` so we also need the `!important` here to be able to override the default hidden behavior on the sphinx rendered scikit-learn.org. See: https://github.com/scikit-learn/scikit-learn/issues/21755 */display: inline-block !important;position: relative;}#sk-container-id-1 div.sk-text-repr-fallback {display: none;}</style><div id=\"sk-container-id-1\" class=\"sk-top-container\"><div class=\"sk-text-repr-fallback\"><pre>Pipeline(steps=[(&#x27;tf-idf&#x27;, TfidfVectorizer()), (&#x27;clf&#x27;, MultinomialNB())])</pre><b>In a Jupyter environment, please rerun this cell to show the HTML representation or trust the notebook. <br />On GitHub, the HTML representation is unable to render, please try loading this page with nbviewer.org.</b></div><div class=\"sk-container\" hidden><div class=\"sk-item sk-dashed-wrapped\"><div class=\"sk-label-container\"><div class=\"sk-label sk-toggleable\"><input class=\"sk-toggleable__control sk-hidden--visually\" id=\"sk-estimator-id-1\" type=\"checkbox\" ><label for=\"sk-estimator-id-1\" class=\"sk-toggleable__label sk-toggleable__label-arrow\">Pipeline</label><div class=\"sk-toggleable__content\"><pre>Pipeline(steps=[(&#x27;tf-idf&#x27;, TfidfVectorizer()), (&#x27;clf&#x27;, MultinomialNB())])</pre></div></div></div><div class=\"sk-serial\"><div class=\"sk-item\"><div class=\"sk-estimator sk-toggleable\"><input class=\"sk-toggleable__control sk-hidden--visually\" id=\"sk-estimator-id-2\" type=\"checkbox\" ><label for=\"sk-estimator-id-2\" class=\"sk-toggleable__label sk-toggleable__label-arrow\">TfidfVectorizer</label><div class=\"sk-toggleable__content\"><pre>TfidfVectorizer()</pre></div></div></div><div class=\"sk-item\"><div class=\"sk-estimator sk-toggleable\"><input class=\"sk-toggleable__control sk-hidden--visually\" id=\"sk-estimator-id-3\" type=\"checkbox\" ><label for=\"sk-estimator-id-3\" class=\"sk-toggleable__label sk-toggleable__label-arrow\">MultinomialNB</label><div class=\"sk-toggleable__content\"><pre>MultinomialNB()</pre></div></div></div></div></div></div></div>"
            ]
          },
          "metadata": {},
          "execution_count": 22
        }
      ],
      "source": [
        "# Create a pipeline\n",
        "model_0 = Pipeline([\n",
        "    ('tf-idf', TfidfVectorizer()),\n",
        "    ('clf', MultinomialNB())\n",
        "])\n",
        "\n",
        "# Fit the pipeline to training data\n",
        "model_0.fit(X=train_sentences, y=train_labels_encoded)"
      ]
    },
    {
      "cell_type": "code",
      "execution_count": 23,
      "metadata": {
        "colab": {
          "base_uri": "https://localhost:8080/"
        },
        "id": "tkJplNFDlx5l",
        "outputId": "e6a139a5-c6b6-4976-8c39-736202f79989"
      },
      "outputs": [
        {
          "output_type": "execute_result",
          "data": {
            "text/plain": [
              "{'accuracy': 0.7218323844829869,\n",
              " 'precision': 0.7186466952323352,\n",
              " 'recall': 0.7218323844829869,\n",
              " 'f1': 0.6989250353450294}"
            ]
          },
          "metadata": {},
          "execution_count": 23
        }
      ],
      "source": [
        "# Evaluate baseline model on validation dataset\n",
        "model_0_res = get_model_res(model_0)\n",
        "model_0_res"
      ]
    },
    {
      "cell_type": "markdown",
      "metadata": {
        "id": "CvYQUW5WmDhC"
      },
      "source": [
        "### Preparing data for deep sequence models"
      ]
    },
    {
      "cell_type": "code",
      "execution_count": 24,
      "metadata": {
        "id": "IdgKFb2SnGPU"
      },
      "outputs": [],
      "source": [
        "import numpy as np\n",
        "import tensorflow as tf\n",
        "from tensorflow.keras import layers"
      ]
    },
    {
      "cell_type": "code",
      "execution_count": 25,
      "metadata": {
        "colab": {
          "base_uri": "https://localhost:8080/"
        },
        "id": "NB10qFaVnToh",
        "outputId": "0c556438-4110-49bf-d713-5d11e87a5292"
      },
      "outputs": [
        {
          "output_type": "execute_result",
          "data": {
            "text/plain": [
              "26.338269273494777"
            ]
          },
          "metadata": {},
          "execution_count": 25
        }
      ],
      "source": [
        "# Check average of each sentence length\n",
        "sentence_length = [len(sentence.split()) for sentence in train_sentences]\n",
        "np.mean(sentence_length)"
      ]
    },
    {
      "cell_type": "code",
      "execution_count": 26,
      "metadata": {
        "colab": {
          "base_uri": "https://localhost:8080/",
          "height": 430
        },
        "id": "fTXNgITYnkAb",
        "outputId": "9698ae20-e933-47ce-bc07-ac468573d815"
      },
      "outputs": [
        {
          "output_type": "display_data",
          "data": {
            "text/plain": [
              "<Figure size 640x480 with 1 Axes>"
            ],
            "image/png": "[encoded data removed]"
          },
          "metadata": {}
        }
      ],
      "source": [
        "# Check the distribution of sentence lengths\n",
        "import matplotlib.pyplot as plt\n",
        "plt.hist(sentence_length, bins=20);"
      ]
    },
    {
      "cell_type": "code",
      "execution_count": 27,
      "metadata": {
        "id": "nN26kO0eoCVX"
      },
      "outputs": [],
      "source": [
        "# Find out sentence length that covers 95% examples\n",
        "output_seq_len = int(np.percentile(sentence_length, 95))"
      ]
    },
    {
      "cell_type": "code",
      "execution_count": 28,
      "metadata": {
        "colab": {
          "base_uri": "https://localhost:8080/"
        },
        "id": "K9HR-mRiob2P",
        "outputId": "be40be76-3e5b-44ac-b84a-724a6ccc66dc"
      },
      "outputs": [
        {
          "output_type": "execute_result",
          "data": {
            "text/plain": [
              "296"
            ]
          },
          "metadata": {},
          "execution_count": 28
        }
      ],
      "source": [
        "# Max length of sentences in training data\n",
        "np.max(sentence_length)"
      ]
    },
    {
      "cell_type": "markdown",
      "metadata": {
        "id": "aQnD3hhRooAV"
      },
      "source": [
        "#### Create TextVectorization layer for tokenization"
      ]
    },
    {
      "cell_type": "code",
      "execution_count": 29,
      "metadata": {
        "id": "iRFH-_Hpo5QD"
      },
      "outputs": [],
      "source": [
        "# How many words in vocabulary (based on table 2 in the paper)\n",
        "max_words = 68000"
      ]
    },
    {
      "cell_type": "code",
      "execution_count": 30,
      "metadata": {
        "id": "wBQArC0Fpgjw"
      },
      "outputs": [],
      "source": [
        "# Text vectorizer\n",
        "from tensorflow.keras.layers import TextVectorization\n",
        "\n",
        "text_vectorizer = TextVectorization(max_tokens=max_words, output_sequence_length=output_seq_len, pad_to_max_tokens=True)\n",
        "\n",
        "# Fit to data\n",
        "text_vectorizer.adapt(train_sentences)"
      ]
    },
    {
      "cell_type": "code",
      "execution_count": 31,
      "metadata": {
        "colab": {
          "base_uri": "https://localhost:8080/"
        },
        "id": "VkVeEk3PqZeg",
        "outputId": "10289f96-3176-47d8-ca5a-4d0e3d2d4ee4"
      },
      "outputs": [
        {
          "output_type": "stream",
          "name": "stdout",
          "text": [
            "Text: \n",
            "part @ compared the closure of surgical incisions with n-butyl-@ cyanoacrylate and subcuticular suture .\n",
            "\n",
            "Length of text: 15\n",
            "\n",
            "Vectorized text:\n",
            "[  732    34     2  1226     4   306  4891     7 15720  7245     3  5872\n",
            "  1875     0     0     0     0     0     0     0     0     0     0     0\n",
            "     0     0     0     0     0     0     0     0     0     0     0     0\n",
            "     0     0     0     0     0     0     0     0     0     0     0     0\n",
            "     0     0     0     0     0     0     0]\n"
          ]
        }
      ],
      "source": [
        "# Test text vectorizer on random sentence\n",
        "import random\n",
        "random_sentence = random.choice(train_sentences)\n",
        "print(f\"Text: \\n{random_sentence}\\n\")\n",
        "print(f\"Length of text: {len(random_sentence.split())}\\n\")\n",
        "print(f\"Vectorized text:\\n{text_vectorizer(random_sentence)}\")"
      ]
    },
    {
      "cell_type": "code",
      "execution_count": 32,
      "metadata": {
        "colab": {
          "base_uri": "https://localhost:8080/"
        },
        "id": "-GVVEMTdqyju",
        "outputId": "89365d6d-0d27-4be0-ed9c-720ca5f8b588"
      },
      "outputs": [
        {
          "output_type": "stream",
          "name": "stdout",
          "text": [
            "Number of words in vocab: 64841\n",
            "Most common words in the vocab: ['', '[UNK]', 'the', 'and', 'of']\n",
            "Least common words in the vocab: ['aainduced', 'aaigroup', 'aachener', 'aachen', 'aaacp']\n"
          ]
        }
      ],
      "source": [
        "# Count of words in training voacbulary\n",
        "text_vocab_20k = text_vectorizer.get_vocabulary()\n",
        "print(f\"Number of words in vocab: {len(text_vocab_20k)}\")\n",
        "print(f\"Most common words in the vocab: {text_vocab_20k[:5]}\")\n",
        "print(f\"Least common words in the vocab: {text_vocab_20k[-5:]}\")"
      ]
    },
    {
      "cell_type": "markdown",
      "metadata": {
        "id": "R_uxZB_Nre6d"
      },
      "source": [
        "#### Create Text Embedding Layer"
      ]
    },
    {
      "cell_type": "code",
      "execution_count": 33,
      "metadata": {
        "id": "Nm0YEiQUU2ED"
      },
      "outputs": [],
      "source": [
        "from tensorflow.keras import layers\n",
        "token_embedding = layers.Embedding(input_dim=len(text_vocab_20k), output_dim=128,\n",
        "                                   mask_zero=True, name=\"token_embedding\", )"
      ]
    },
    {
      "cell_type": "code",
      "execution_count": 34,
      "metadata": {
        "colab": {
          "base_uri": "https://localhost:8080/"
        },
        "id": "ziajdmN_Vp3Y",
        "outputId": "0a165ad3-8219-4160-bc3d-21e314de66c6"
      },
      "outputs": [
        {
          "output_type": "stream",
          "name": "stdout",
          "text": [
            "Sentence before vectorization: \n",
            "part @ compared the closure of surgical incisions with n-butyl-@ cyanoacrylate and subcuticular suture .\n",
            "Sentence after vectorization: \n",
            "[[  732    34     2  1226     4   306  4891     7 15720  7245     3  5872\n",
            "   1875     0     0     0     0     0     0     0     0     0     0     0\n",
            "      0     0     0     0     0     0     0     0     0     0     0     0\n",
            "      0     0     0     0     0     0     0     0     0     0     0     0\n",
            "      0     0     0     0     0     0     0]]\n",
            "Sentence after embedding: \n",
            "[[[-0.03515408  0.02280912 -0.02702746 ... -0.03742807 -0.03386949\n",
            "   -0.03892078]\n",
            "  [ 0.01786217  0.01432068 -0.03371648 ...  0.02950913  0.03873383\n",
            "    0.00935314]\n",
            "  [-0.02405236 -0.02585658  0.02772189 ...  0.04030121  0.01022657\n",
            "   -0.00189272]\n",
            "  ...\n",
            "  [ 0.02413804 -0.01264755  0.04144759 ... -0.00246008 -0.00798303\n",
            "    0.00668204]\n",
            "  [ 0.02413804 -0.01264755  0.04144759 ... -0.00246008 -0.00798303\n",
            "    0.00668204]\n",
            "  [ 0.02413804 -0.01264755  0.04144759 ... -0.00246008 -0.00798303\n",
            "    0.00668204]]]\n",
            "Embedded sentence shape: \n",
            "(1, 55, 128)\n"
          ]
        }
      ],
      "source": [
        "# Embedding example\n",
        "print(f\"Sentence before vectorization: \\n{random_sentence}\")\n",
        "print(f\"Sentence after vectorization: \\n{text_vectorizer([random_sentence])}\")\n",
        "print(f\"Sentence after embedding: \\n{token_embedding(text_vectorizer([random_sentence]))}\")\n",
        "print(f\"Embedded sentence shape: \\n{token_embedding(text_vectorizer([random_sentence])).shape}\")"
      ]
    },
    {
      "cell_type": "markdown",
      "metadata": {
        "id": "ZlkY3Fq8WDDh"
      },
      "source": [
        "#### Load dataset using TensorFlow Data API"
      ]
    },
    {
      "cell_type": "code",
      "execution_count": 35,
      "metadata": {
        "id": "nVxcjjaTWkge"
      },
      "outputs": [],
      "source": [
        "# Turn data into tensorflow datasets\n",
        "train_dataset = tf.data.Dataset.from_tensor_slices((train_sentences, train_labels_one_hot))\n",
        "val_dataset = tf.data.Dataset.from_tensor_slices((val_sentences, val_labels_one_hot))\n",
        "test_dataset = tf.data.Dataset.from_tensor_slices((test_sentences, test_labels_one_hot))"
      ]
    },
    {
      "cell_type": "code",
      "execution_count": 36,
      "metadata": {
        "colab": {
          "base_uri": "https://localhost:8080/"
        },
        "id": "QKUUUdV0X3A1",
        "outputId": "68654de7-453d-455e-8679-1ac8d92c9a52"
      },
      "outputs": [
        {
          "output_type": "execute_result",
          "data": {
            "text/plain": [
              "<_TensorSliceDataset element_spec=(TensorSpec(shape=(), dtype=tf.string, name=None), TensorSpec(shape=(5,), dtype=tf.float64, name=None))>"
            ]
          },
          "metadata": {},
          "execution_count": 36
        }
      ],
      "source": [
        "train_dataset"
      ]
    },
    {
      "cell_type": "code",
      "execution_count": 37,
      "metadata": {
        "colab": {
          "base_uri": "https://localhost:8080/"
        },
        "id": "4UL_2fxvXiXW",
        "outputId": "53cf1d6a-6c80-4f36-9144-1131f0bed9de"
      },
      "outputs": [
        {
          "output_type": "execute_result",
          "data": {
            "text/plain": [
              "<_PrefetchDataset element_spec=(TensorSpec(shape=(None,), dtype=tf.string, name=None), TensorSpec(shape=(None, 5), dtype=tf.float64, name=None))>"
            ]
          },
          "metadata": {},
          "execution_count": 37
        }
      ],
      "source": [
        "# Take TensorSliceDataset and turn it into prefetched dataset\n",
        "train_dataset = train_dataset.batch(32).prefetch(tf.data.AUTOTUNE)\n",
        "val_dataset = val_dataset.batch(32).prefetch(tf.data.AUTOTUNE)\n",
        "test_dataset = test_dataset.batch(32).prefetch(tf.data.AUTOTUNE)\n",
        "\n",
        "train_dataset"
      ]
    },
    {
      "cell_type": "markdown",
      "metadata": {
        "id": "YvUPsj0BYzG6"
      },
      "source": [
        "### Model 1: 1D Convolution Model with token embeddings"
      ]
    },
    {
      "cell_type": "code",
      "execution_count": 38,
      "metadata": {
        "id": "Do9mckRIY9Pu"
      },
      "outputs": [],
      "source": [
        "# Create 1D Conv. model\n",
        "inputs = layers.Input(shape=(1,), dtype=tf.string)\n",
        "text_vectors = text_vectorizer(inputs)\n",
        "token_embeddings = token_embedding(text_vectors)\n",
        "x = layers.Conv1D(64, kernel_size=5, padding=\"same\", activation=\"relu\")(token_embeddings)\n",
        "x = layers.GlobalMaxPooling1D()(x)\n",
        "outputs = layers.Dense(5, activation=\"softmax\")(x)\n",
        "\n",
        "model_1 = tf.keras.Model(inputs, outputs, name=\"model_1_1d_conv\")"
      ]
    },
    {
      "cell_type": "code",
      "execution_count": 39,
      "metadata": {
        "id": "N_lqqNZ0Z2oJ"
      },
      "outputs": [],
      "source": [
        "model_1.compile(loss=\"categorical_crossentropy\", optimizer=tf.keras.optimizers.Adam(), metrics=[\"accuracy\"])"
      ]
    },
    {
      "cell_type": "code",
      "execution_count": 40,
      "metadata": {
        "colab": {
          "base_uri": "https://localhost:8080/"
        },
        "id": "_5sSvxoTaCjo",
        "outputId": "58eb09b2-cad1-426c-9c94-c8f2f9585293"
      },
      "outputs": [
        {
          "output_type": "stream",
          "name": "stdout",
          "text": [
            "Model: \"model_1_1d_conv\"\n",
            "_________________________________________________________________\n",
            " Layer (type)                Output Shape              Param #   \n",
            "=================================================================\n",
            " input_1 (InputLayer)        [(None, 1)]               0         \n",
            "                                                                 \n",
            " text_vectorization (TextVe  (None, 55)                0         \n",
            " ctorization)                                                    \n",
            "                                                                 \n",
            " token_embedding (Embedding  (None, 55, 128)           8299648   \n",
            " )                                                               \n",
            "                                                                 \n",
            " conv1d (Conv1D)             (None, 55, 64)            41024     \n",
            "                                                                 \n",
            " global_max_pooling1d (Glob  (None, 64)                0         \n",
            " alMaxPooling1D)                                                 \n",
            "                                                                 \n",
            " dense (Dense)               (None, 5)                 325       \n",
            "                                                                 \n",
            "=================================================================\n",
            "Total params: 8340997 (31.82 MB)\n",
            "Trainable params: 8340997 (31.82 MB)\n",
            "Non-trainable params: 0 (0.00 Byte)\n",
            "_________________________________________________________________\n"
          ]
        }
      ],
      "source": [
        "model_1.summary()"
      ]
    },
    {
      "cell_type": "code",
      "execution_count": 41,
      "metadata": {
        "colab": {
          "base_uri": "https://localhost:8080/"
        },
        "id": "Gd0hjFe_aWVN",
        "outputId": "e93b51b5-10d5-4abc-c77f-416f08b6aaaa"
      },
      "outputs": [
        {
          "output_type": "stream",
          "name": "stdout",
          "text": [
            "Epoch 1/5\n",
            "562/562 [==============================] - 21s 32ms/step - loss: 0.8368 - accuracy: 0.6874 - val_loss: 0.5871 - val_accuracy: 0.7759\n",
            "Epoch 2/5\n",
            "562/562 [==============================] - 6s 11ms/step - loss: 0.5794 - accuracy: 0.7852 - val_loss: 0.5405 - val_accuracy: 0.8022\n",
            "Epoch 3/5\n",
            "562/562 [==============================] - 5s 8ms/step - loss: 0.5455 - accuracy: 0.7959 - val_loss: 0.5207 - val_accuracy: 0.8072\n",
            "Epoch 4/5\n",
            "562/562 [==============================] - 4s 8ms/step - loss: 0.5257 - accuracy: 0.8083 - val_loss: 0.5196 - val_accuracy: 0.8088\n",
            "Epoch 5/5\n",
            "562/562 [==============================] - 10s 18ms/step - loss: 0.5300 - accuracy: 0.8072 - val_loss: 0.5002 - val_accuracy: 0.8128\n"
          ]
        }
      ],
      "source": [
        "# Fit the model\n",
        "history_model_1 = model_1.fit(train_dataset,\n",
        "                              steps_per_epoch=int(0.1 * len(train_dataset)),\n",
        "                              epochs=5,\n",
        "                              validation_data=val_dataset,\n",
        "                              validation_steps=int(0.1 * len(val_dataset)),\n",
        "                              verbose=True\n",
        "                              )"
      ]
    },
    {
      "cell_type": "code",
      "execution_count": 42,
      "metadata": {
        "colab": {
          "base_uri": "https://localhost:8080/"
        },
        "id": "VoErmBOla-pC",
        "outputId": "9584f2a1-3934-4d50-d696-26e84ba99076"
      },
      "outputs": [
        {
          "output_type": "stream",
          "name": "stdout",
          "text": [
            "945/945 [==============================] - 5s 5ms/step\n"
          ]
        },
        {
          "output_type": "execute_result",
          "data": {
            "text/plain": [
              "array([[4.7058004e-01, 3.8865593e-01, 3.8736218e-03, 1.2112697e-01,\n",
              "        1.5763354e-02],\n",
              "       [4.0571010e-01, 5.1799899e-01, 2.4903603e-03, 4.7036126e-02,\n",
              "        2.6764371e-02],\n",
              "       [3.5253882e-01, 7.1972646e-02, 1.3327753e-02, 5.5804312e-01,\n",
              "        4.1176802e-03],\n",
              "       ...,\n",
              "       [4.9846142e-04, 6.2033790e-04, 1.0787630e-02, 1.7365358e-04,\n",
              "        9.8791993e-01],\n",
              "       [2.4683522e-02, 5.6132734e-01, 3.3346295e-02, 1.0598355e-02,\n",
              "        3.7004450e-01],\n",
              "       [4.9362432e-02, 9.3318802e-01, 7.0638498e-03, 3.0894394e-03,\n",
              "        7.2963359e-03]], dtype=float32)"
            ]
          },
          "metadata": {},
          "execution_count": 42
        }
      ],
      "source": [
        "model_1_pred_probs = model_1.predict(val_dataset)\n",
        "model_1_pred_probs"
      ]
    },
    {
      "cell_type": "code",
      "execution_count": 43,
      "metadata": {
        "colab": {
          "base_uri": "https://localhost:8080/"
        },
        "id": "MKrimg5beqop",
        "outputId": "178a7313-c9d7-41b5-950a-1dc512963189"
      },
      "outputs": [
        {
          "output_type": "execute_result",
          "data": {
            "text/plain": [
              "<tf.Tensor: shape=(30212,), dtype=int64, numpy=array([0, 1, 3, ..., 4, 1, 1])>"
            ]
          },
          "metadata": {},
          "execution_count": 43
        }
      ],
      "source": [
        "# Convert pred probs to classes\n",
        "model_1_preds = tf.argmax(model_1_pred_probs, axis=1)\n",
        "model_1_preds"
      ]
    },
    {
      "cell_type": "code",
      "execution_count": 44,
      "metadata": {
        "colab": {
          "base_uri": "https://localhost:8080/"
        },
        "id": "C0a1jVsQexDz",
        "outputId": "298a409e-ab27-4461-bb4c-5ddd6185cde0"
      },
      "outputs": [
        {
          "output_type": "execute_result",
          "data": {
            "text/plain": [
              "{'accuracy': 0.8178538329140739,\n",
              " 'precision': 0.8201487401968537,\n",
              " 'recall': 0.8178538329140739,\n",
              " 'f1': 0.8152048527902559}"
            ]
          },
          "metadata": {},
          "execution_count": 44
        }
      ],
      "source": [
        "# Evaluate results\n",
        "model_1_res = evaluate_results(val_labels_encoded, model_1_preds)\n",
        "model_1_res"
      ]
    },
    {
      "cell_type": "markdown",
      "metadata": {
        "id": "vQzzfZqJe9tj"
      },
      "source": [
        "### Model 2: TensorFlow Hub Pretrained Feature Extractor\n",
        "\n",
        "Using Tensorflow Universal Sentence Encoder v4"
      ]
    },
    {
      "cell_type": "code",
      "execution_count": 45,
      "metadata": {
        "id": "KdPbVtQvfewH"
      },
      "outputs": [],
      "source": [
        "# Download pretrained TF Hub\n",
        "import tensorflow_hub as hub\n",
        "tf_hub_embedding_layer = hub.KerasLayer(\"https://tfhub.dev/google/universal-sentence-encoder/4\",\n",
        "                                        trainable=False,\n",
        "                                        name=\"universal_sentence_encoder\")"
      ]
    },
    {
      "cell_type": "code",
      "execution_count": 46,
      "metadata": {
        "colab": {
          "base_uri": "https://localhost:8080/"
        },
        "id": "VEWo0XuKgy-c",
        "outputId": "d3cf4a8f-5b33-4907-a252-d5585d63abb9"
      },
      "outputs": [
        {
          "output_type": "stream",
          "name": "stdout",
          "text": [
            "the cgs array developed in this study enabled typing of influenza b viruses in human clinical specimens .\n",
            "tf.Tensor(\n",
            "[[ 3.10080452e-03  4.33603004e-02 -5.86840250e-02 -4.04084362e-02\n",
            "   2.12094057e-02  1.06498115e-02  5.22142127e-02  6.36107847e-02\n",
            "  -2.85387933e-02  4.76216860e-02  8.45230296e-02 -7.53884837e-02\n",
            "   7.72072151e-02  3.93932201e-02  1.99302714e-02 -5.52300215e-02\n",
            "  -8.41462910e-02 -6.48299083e-02  6.46270066e-02 -7.79030472e-02\n",
            "  -7.71620870e-02 -3.43752541e-02 -5.25092967e-02  7.73073807e-02\n",
            "  -6.10342808e-02 -5.40723838e-02 -5.31250611e-02 -6.46535680e-02\n",
            "   3.74995917e-02 -5.91261126e-02  1.96034573e-02  8.47897530e-02\n",
            "  -7.30435876e-03 -2.95955092e-02 -4.17723209e-02 -2.72870082e-02\n",
            "  -6.92676008e-02 -2.59094071e-02 -3.89048904e-02 -3.85883613e-03\n",
            "   2.29426404e-03  4.30328436e-02 -6.90786839e-02  6.04800042e-03\n",
            "   2.92471237e-02 -3.10754757e-02  6.82117976e-03  1.01765143e-02\n",
            "   1.07062003e-02  3.53582832e-03 -1.52940070e-02 -7.73139065e-03\n",
            "  -3.12935337e-02  1.69273969e-02 -6.36700988e-02 -5.06061204e-02\n",
            "   3.00156344e-02  1.83419175e-02  2.68804133e-02 -3.13750468e-02\n",
            "   1.60163938e-04  5.57487905e-02  6.15931079e-02  8.67282785e-03\n",
            "   5.98520078e-02 -3.58523503e-02  2.86815707e-02 -4.55868151e-03\n",
            "   4.07435596e-02  5.68250082e-02 -1.67772118e-02 -2.78013498e-02\n",
            "  -2.25780178e-02  2.18563993e-02  3.98242511e-02 -3.81640010e-02\n",
            "  -2.86752824e-02 -6.15515076e-02 -8.19131732e-02  3.01635377e-02\n",
            "   3.43995541e-02 -3.37339304e-02  5.20955324e-02 -2.04618991e-04\n",
            "   2.87845591e-03  5.73638417e-02 -3.23302224e-02  3.74120139e-02\n",
            "  -6.03795201e-02  9.37277393e-04  3.97548079e-02  4.03608792e-02\n",
            "  -9.83231235e-03  4.50382046e-02  2.47940104e-02  8.10102522e-02\n",
            "  -2.54009049e-02 -4.66309749e-02  7.19805360e-02  1.80911720e-02\n",
            "  -5.54497913e-02  2.59255134e-02 -9.51439515e-03  5.23626618e-02\n",
            "   4.46140468e-02 -3.13668661e-02  5.86761050e-02 -4.43889350e-02\n",
            "  -7.83629417e-02  7.28752464e-03  5.52321959e-04  2.34458931e-02\n",
            "   3.97922248e-02  1.16587980e-02  2.92498874e-03  3.08486689e-02\n",
            "  -6.79390207e-02  2.12778524e-03  3.98181565e-02  2.64045503e-02\n",
            "   1.55926282e-02  6.53575584e-02 -1.30747342e-02  2.62080655e-02\n",
            "  -8.21038964e-04  1.32196555e-02 -5.15797623e-02 -2.19992753e-02\n",
            "  -3.45660299e-02 -4.04957868e-03  9.87674296e-03  8.47710893e-02\n",
            "   2.77090780e-02  3.40160318e-02  2.92643700e-02 -9.43731610e-03\n",
            "   4.03080359e-02  4.80452180e-02 -1.55551918e-02 -3.32239270e-02\n",
            "   5.35259210e-03  1.59033276e-02  6.43449323e-03 -2.57411916e-02\n",
            "   3.33590135e-02 -2.18708925e-02  5.71417287e-02 -4.76333313e-02\n",
            "   5.27092889e-02 -4.73453552e-02  3.57159637e-02 -2.21355911e-02\n",
            "  -5.19075915e-02  9.00181103e-03  6.46702647e-02 -3.57099548e-02\n",
            "   4.58846018e-02 -6.09743968e-03  2.04569958e-02  1.16818482e-02\n",
            "   1.55915944e-02  4.95405681e-02 -6.08536880e-03  3.06019429e-02\n",
            "   4.02026400e-02 -6.25449196e-02 -3.42413001e-02 -2.72589698e-02\n",
            "  -5.98504804e-02 -5.53073324e-02 -1.38113962e-03 -3.46154557e-03\n",
            "  -6.71219900e-02  8.01314712e-02 -1.60026718e-02 -5.53357750e-02\n",
            "  -4.97074565e-03 -2.41724607e-02  1.58850700e-02  7.25407749e-02\n",
            "   6.88378587e-02 -3.49410251e-02  3.87491658e-02  7.67567828e-02\n",
            "   5.45983389e-02 -1.83859300e-02 -5.51233590e-02 -3.59868333e-02\n",
            "   3.24195772e-02  1.49494149e-02  5.77693880e-02 -3.10454518e-02\n",
            "   1.17049698e-04  1.81400236e-02  3.90610695e-02  2.09700651e-02\n",
            "   4.43994440e-02  6.68459237e-02 -2.79218145e-02 -3.36339325e-02\n",
            "   4.56354059e-02  4.97071445e-02 -4.50281203e-02  4.41379026e-02\n",
            "   4.51869667e-02 -7.58443028e-02 -4.71559726e-02 -5.71875647e-03\n",
            "   1.75454970e-02  8.13198686e-02  9.14259441e-03  1.64520442e-02\n",
            "   2.00423896e-02 -1.03754988e-02  9.56177246e-03  6.67129904e-02\n",
            "   7.20422119e-02  4.63535450e-02 -1.41586307e-02  3.81426625e-02\n",
            "  -4.86565242e-03 -5.68751507e-02  7.46717751e-02  2.42438838e-02\n",
            "  -4.76588272e-02  3.81127894e-02 -6.69313073e-02 -2.50289720e-02\n",
            "  -3.65498438e-02  1.23115620e-02  6.22224137e-02 -5.45089096e-02\n",
            "  -1.20301722e-02  6.03500288e-03  2.00404488e-02 -4.77925967e-03\n",
            "   2.52346527e-02 -5.96681684e-02 -5.69138601e-02  4.03071521e-03\n",
            "   5.04975021e-02 -1.03139849e-02  6.24499023e-02 -5.02920747e-02\n",
            "   4.83792881e-03 -4.80050966e-02 -5.09636179e-02 -4.59924806e-03\n",
            "  -3.86117883e-02 -8.05381015e-02 -4.55374047e-02 -8.45199917e-03\n",
            "  -5.27290590e-02  4.91648167e-02  6.86782449e-02 -1.40250009e-03\n",
            "  -7.38670304e-02  1.51278824e-02  2.90921442e-02 -3.65254655e-02\n",
            "  -4.09849845e-02  2.80396524e-03  1.64593030e-02  4.34071459e-02\n",
            "  -2.42664441e-02 -3.93789448e-03  1.14581864e-02  5.70921116e-02\n",
            "   2.98717208e-02  7.50973225e-02 -4.64743674e-02  6.75150082e-02\n",
            "  -2.99692508e-02 -3.86025831e-02  4.03104769e-03 -7.77915269e-02\n",
            "   6.41826391e-02  5.96338734e-02  1.51637262e-02 -2.70343721e-02\n",
            "  -5.21881692e-02 -3.28638405e-02  5.92496805e-02 -7.48287663e-02\n",
            "   1.52617497e-02  1.70466918e-02 -1.97289512e-02 -2.27450375e-02\n",
            "  -6.67150766e-02 -5.51734157e-02 -4.28968966e-02 -1.65993683e-02\n",
            "  -9.53019876e-03 -1.77574493e-02 -5.60463779e-02 -4.93036807e-02\n",
            "   5.66974990e-02 -4.58140932e-02 -6.28275126e-02  2.92132571e-02\n",
            "   1.52010117e-02 -1.16358185e-03  5.14275245e-02 -6.00926653e-02\n",
            "  -8.00044462e-02  8.06289259e-03 -1.64721776e-02 -7.77334124e-02\n",
            "  -2.31216848e-02 -1.59366783e-02 -2.55488865e-02  1.71300042e-02\n",
            "  -1.21370293e-02 -4.64680605e-02  6.37784004e-02  6.32875413e-03\n",
            "   4.34088968e-02 -1.53545337e-02  2.43401546e-02 -9.44462325e-03\n",
            "  -4.05300744e-02  7.13902642e-04  5.67833148e-02 -1.29030300e-02\n",
            "  -6.70166463e-02  7.36653656e-02 -4.98487726e-02 -5.93276275e-03\n",
            "   1.10004004e-02 -5.50993606e-02  5.90553731e-02 -1.77376419e-02\n",
            "   8.05844367e-02 -4.82145697e-02  3.84868160e-02 -5.89868799e-03\n",
            "   5.00689782e-02  4.44002944e-05 -2.90077715e-03  7.27113802e-04\n",
            "  -4.38748486e-02 -4.73033264e-02  7.69559368e-02  4.99794036e-02\n",
            "  -7.35591128e-02 -2.26400769e-03  7.06299767e-02  7.54175112e-02\n",
            "  -2.18816232e-02 -3.05010788e-02  3.31403478e-03 -5.09437509e-02\n",
            "   1.66809708e-02  8.40698835e-03  6.28882647e-02 -6.35742620e-02\n",
            "  -4.30162959e-02 -4.22990285e-02  6.49677590e-02 -6.70106858e-02\n",
            "  -4.53464314e-02 -4.62939516e-02 -7.73041695e-02  3.14943008e-02\n",
            "  -5.08683324e-02  3.65010835e-02 -1.18852006e-02 -2.03606021e-02\n",
            "   2.76373830e-02 -2.81903148e-02 -1.32829025e-02  5.83796911e-02\n",
            "  -3.37113179e-02 -5.24510778e-02  6.59893528e-02  1.63450986e-02\n",
            "   2.31494177e-02 -4.34582382e-02  3.52192931e-02 -1.29939960e-02\n",
            "  -4.31537777e-02 -2.22977195e-02  7.30560953e-03  3.61448154e-02\n",
            "  -2.40743887e-02  1.76261179e-02  2.71150637e-02 -8.13163742e-02\n",
            "   5.93295470e-02  5.31395413e-02  2.34739650e-02 -5.92037290e-03\n",
            "   9.28344578e-03  1.64691340e-02 -7.90953487e-02  2.93803141e-02\n",
            "   1.60585064e-02 -8.01611319e-02  7.61377588e-02 -7.50606433e-02\n",
            "  -1.82166963e-03  7.82364532e-02  4.03712876e-02 -6.28375635e-02\n",
            "  -2.32094396e-02  6.09972887e-02 -6.85985014e-02  5.07898666e-02\n",
            "   3.68696451e-02  1.25641376e-02  5.14207482e-02  1.88702829e-02\n",
            "  -2.92481929e-02 -6.26683086e-02  6.45800084e-02 -7.08809868e-02\n",
            "  -6.99684769e-02  4.07332294e-02 -7.27343410e-02  7.43945315e-02\n",
            "  -1.29496492e-02 -7.54926577e-02 -8.73754499e-04 -1.75179858e-02\n",
            "   1.90493390e-02 -1.44988177e-02  1.07286852e-02 -4.61857803e-02\n",
            "   3.11187189e-02 -2.32216027e-02 -2.69737225e-02 -6.29223362e-02\n",
            "  -6.00492395e-02 -4.43516709e-02  1.34849027e-02  1.79109722e-02\n",
            "  -5.77356070e-02  2.90147178e-02  1.35942139e-02  3.39932516e-02\n",
            "  -5.44942431e-02  1.54710552e-02 -3.49876247e-02 -7.32213631e-02\n",
            "   1.96282472e-03 -6.21293560e-02  6.83681220e-02 -2.28039846e-02\n",
            "  -5.22462837e-02  3.91926058e-02 -5.67698553e-02  4.06443439e-02\n",
            "  -3.19851600e-02  6.80948421e-02  1.99347232e-02 -4.31320295e-02\n",
            "   3.10504809e-03  4.18486893e-02 -4.73225564e-02  1.85060948e-02\n",
            "   5.40712997e-02 -4.14482392e-02  5.88716269e-02  6.75924048e-02\n",
            "   7.59868510e-03 -4.50748764e-02 -1.14645287e-02 -3.58470604e-02\n",
            "   5.44893108e-02 -2.68858019e-02  6.78731874e-02  6.81631640e-02\n",
            "   4.89360876e-02  6.10886291e-02 -4.04873528e-02  6.01613969e-02\n",
            "  -5.55239432e-02 -1.31919207e-02  2.06247307e-02  5.93929738e-02\n",
            "  -5.42520024e-02 -1.85653307e-02  2.58852378e-03 -1.20623084e-03\n",
            "   7.40348101e-02  6.18359931e-02 -4.36489321e-02  2.34973487e-02\n",
            "   3.41924801e-02 -7.91294593e-03 -7.20416456e-02 -1.97307281e-02\n",
            "   4.55092080e-02 -2.55686883e-02  4.18796875e-02  4.24222499e-02\n",
            "  -6.32000044e-02 -4.17791605e-02 -6.56027496e-02 -9.57195088e-03\n",
            "  -4.00950275e-02 -3.12559754e-02 -7.29486197e-02 -8.67946073e-03\n",
            "  -5.85979410e-02 -8.48113671e-02  6.06106147e-02  5.25975227e-02\n",
            "   6.31404445e-02 -5.01930974e-02 -5.99205494e-04  1.04833124e-02]], shape=(1, 512), dtype=float32)\n"
          ]
        }
      ],
      "source": [
        "# Test pretrained embedding\n",
        "random_train_sentence = random.choice(train_sentences)\n",
        "embedded_sentence = tf_hub_embedding_layer([random_train_sentence])\n",
        "print(random_train_sentence)\n",
        "print(embedded_sentence[:30])"
      ]
    },
    {
      "cell_type": "code",
      "execution_count": 47,
      "metadata": {
        "id": "Nj5ZzxCrhEfB"
      },
      "outputs": [],
      "source": [
        "inputs = layers.Input(shape=[], dtype=tf.string)\n",
        "x = tf_hub_embedding_layer(inputs)\n",
        "x = layers.Dense(128, activation=\"relu\")(x)\n",
        "outputs = layers.Dense(5, activation=\"softmax\")(x)\n",
        "model_2 = tf.keras.Model(inputs, outputs, name=\"tf_hub_pretrained_embedding\")"
      ]
    },
    {
      "cell_type": "code",
      "execution_count": 48,
      "metadata": {
        "colab": {
          "base_uri": "https://localhost:8080/"
        },
        "id": "DVml9wpshzeS",
        "outputId": "e57872fc-a12a-4da8-f9c3-af484d847cdf"
      },
      "outputs": [
        {
          "output_type": "stream",
          "name": "stdout",
          "text": [
            "Model: \"tf_hub_pretrained_embedding\"\n",
            "_________________________________________________________________\n",
            " Layer (type)                Output Shape              Param #   \n",
            "=================================================================\n",
            " input_2 (InputLayer)        [(None,)]                 0         \n",
            "                                                                 \n",
            " universal_sentence_encoder  (None, 512)               256797824 \n",
            "  (KerasLayer)                                                   \n",
            "                                                                 \n",
            " dense_1 (Dense)             (None, 128)               65664     \n",
            "                                                                 \n",
            " dense_2 (Dense)             (None, 5)                 645       \n",
            "                                                                 \n",
            "=================================================================\n",
            "Total params: 256864133 (979.86 MB)\n",
            "Trainable params: 66309 (259.02 KB)\n",
            "Non-trainable params: 256797824 (979.61 MB)\n",
            "_________________________________________________________________\n"
          ]
        }
      ],
      "source": [
        "model_2.compile(loss=\"categorical_crossentropy\", optimizer=tf.keras.optimizers.Adam(), metrics=[\"accuracy\"])\n",
        "model_2.summary()"
      ]
    },
    {
      "cell_type": "code",
      "execution_count": 49,
      "metadata": {
        "colab": {
          "base_uri": "https://localhost:8080/"
        },
        "id": "QormlCqriEIv",
        "outputId": "87a0cd15-0caa-4235-a1ee-27493704e4b4"
      },
      "outputs": [
        {
          "output_type": "stream",
          "name": "stdout",
          "text": [
            "Epoch 1/5\n",
            "562/562 [==============================] - 11s 15ms/step - loss: 0.9173 - accuracy: 0.6508 - val_loss: 0.7982 - val_accuracy: 0.6892\n",
            "Epoch 2/5\n",
            "562/562 [==============================] - 8s 14ms/step - loss: 0.7682 - accuracy: 0.7022 - val_loss: 0.7536 - val_accuracy: 0.7051\n",
            "Epoch 3/5\n",
            "562/562 [==============================] - 7s 12ms/step - loss: 0.7501 - accuracy: 0.7122 - val_loss: 0.7373 - val_accuracy: 0.7134\n",
            "Epoch 4/5\n",
            "562/562 [==============================] - 9s 17ms/step - loss: 0.7172 - accuracy: 0.7256 - val_loss: 0.7090 - val_accuracy: 0.7301\n",
            "Epoch 5/5\n",
            "562/562 [==============================] - 7s 12ms/step - loss: 0.7242 - accuracy: 0.7224 - val_loss: 0.6884 - val_accuracy: 0.7320\n"
          ]
        }
      ],
      "source": [
        "# Fit the model\n",
        "model_2_history = model_2.fit(train_dataset, steps_per_epoch=int(0.1*len(train_dataset)),\n",
        "                              epochs=5, validation_data=val_dataset, validation_steps=int(0.1*len(val_dataset)))"
      ]
    },
    {
      "cell_type": "code",
      "execution_count": 50,
      "metadata": {
        "colab": {
          "base_uri": "https://localhost:8080/"
        },
        "id": "kfXX2BkXicnp",
        "outputId": "d863dfc2-8470-4f68-8d34-d9c66deea3b3"
      },
      "outputs": [
        {
          "output_type": "stream",
          "name": "stdout",
          "text": [
            "945/945 [==============================] - 10s 10ms/step\n"
          ]
        },
        {
          "output_type": "execute_result",
          "data": {
            "text/plain": [
              "{'accuracy': 0.7356348470806302,\n",
              " 'precision': 0.7316545144255684,\n",
              " 'recall': 0.7356348470806302,\n",
              " 'f1': 0.7298677003081834}"
            ]
          },
          "metadata": {},
          "execution_count": 50
        }
      ],
      "source": [
        "# Evaluate the results\n",
        "model_2_preds_probs = model_2.predict(val_dataset)\n",
        "model_2_preds = tf.argmax(model_2_preds_probs, axis=1)\n",
        "model_2_res = evaluate_results(val_labels_encoded, model_2_preds)\n",
        "model_2_res"
      ]
    },
    {
      "cell_type": "markdown",
      "metadata": {
        "id": "JhYu54VZi9Oy"
      },
      "source": [
        "### Model 3: 1D Conv with character embeddings"
      ]
    },
    {
      "cell_type": "markdown",
      "metadata": {
        "id": "rkY8vJLlju3c"
      },
      "source": [
        "#### Create character-level tokenizer"
      ]
    },
    {
      "cell_type": "code",
      "execution_count": 51,
      "metadata": {
        "colab": {
          "base_uri": "https://localhost:8080/",
          "height": 0
        },
        "id": "PuaodLCOkhYC",
        "outputId": "84c1c384-4b88-4ef7-f9ff-17a7d08efa70"
      },
      "outputs": [
        {
          "output_type": "execute_result",
          "data": {
            "text/plain": [
              "'t h e   c g s   a r r a y   d e v e l o p e d   i n   t h i s   s t u d y   e n a b l e d   t y p i n g   o f   i n f l u e n z a   b   v i r u s e s   i n   h u m a n   c l i n i c a l   s p e c i m e n s   .'"
            ],
            "application/vnd.google.colaboratory.intrinsic+json": {
              "type": "string"
            }
          },
          "metadata": {},
          "execution_count": 51
        }
      ],
      "source": [
        "# Function to split sentences into characters\n",
        "def split_chars(text):\n",
        "  return \" \".join(list(text))\n",
        "\n",
        "# Test the function\n",
        "split_chars(random_train_sentence)"
      ]
    },
    {
      "cell_type": "code",
      "execution_count": 52,
      "metadata": {
        "colab": {
          "base_uri": "https://localhost:8080/"
        },
        "id": "bf3w-lhskNjc",
        "outputId": "0f483df3-2cb8-405c-9f22-995eb580aed2"
      },
      "outputs": [
        {
          "output_type": "execute_result",
          "data": {
            "text/plain": [
              "['t o   i n v e s t i g a t e   t h e   e f f i c a c y   o f   @   w e e k s   o f   d a i l y   l o w - d o s e   o r a l   p r e d n i s o l o n e   i n   i m p r o v i n g   p a i n   ,   m o b i l i t y   ,   a n d   s y s t e m i c   l o w - g r a d e   i n f l a m m a t i o n   i n   t h e   s h o r t   t e r m   a n d   w h e t h e r   t h e   e f f e c t   w o u l d   b e   s u s t a i n e d   a t   @   w e e k s   i n   o l d e r   a d u l t s   w i t h   m o d e r a t e   t o   s e v e r e   k n e e   o s t e o a r t h r i t i s   (   o a   )   .',\n",
              " 'a   t o t a l   o f   @   p a t i e n t s   w i t h   p r i m a r y   k n e e   o a   w e r e   r a n d o m i z e d   @ : @   ;   @   r e c e i v e d   @   m g / d a y   o f   p r e d n i s o l o n e   a n d   @   r e c e i v e d   p l a c e b o   f o r   @   w e e k s   .',\n",
              " 'o u t c o m e   m e a s u r e s   i n c l u d e d   p a i n   r e d u c t i o n   a n d   i m p r o v e m e n t   i n   f u n c t i o n   s c o r e s   a n d   s y s t e m i c   i n f l a m m a t i o n   m a r k e r s   .',\n",
              " 'p a i n   w a s   a s s e s s e d   u s i n g   t h e   v i s u a l   a n a l o g   p a i n   s c a l e   (   @ - @   m m   )   .',\n",
              " 's e c o n d a r y   o u t c o m e   m e a s u r e s   i n c l u d e d   t h e   w e s t e r n   o n t a r i o   a n d   m c m a s t e r   u n i v e r s i t i e s   o s t e o a r t h r i t i s   i n d e x   s c o r e s   ,   p a t i e n t   g l o b a l   a s s e s s m e n t   (   p g a   )   o f   t h e   s e v e r i t y   o f   k n e e   o a   ,   a n d   @ - m i n   w a l k   d i s t a n c e   (   @ m w d   )   .']"
            ]
          },
          "metadata": {},
          "execution_count": 52
        }
      ],
      "source": [
        "# Split sequence-level data splits into character-level data splits\n",
        "train_chars = [split_chars(sentence) for sentence in train_sentences]\n",
        "val_chars = [split_chars(sentence) for sentence in val_sentences]\n",
        "test_chars = [split_chars(sentence) for sentence in test_sentences]\n",
        "train_chars[:5]"
      ]
    },
    {
      "cell_type": "code",
      "execution_count": 53,
      "metadata": {
        "colab": {
          "base_uri": "https://localhost:8080/"
        },
        "id": "b9wE1184k9iR",
        "outputId": "57ffa978-c2be-45d2-e38d-3776d987fe41"
      },
      "outputs": [
        {
          "output_type": "execute_result",
          "data": {
            "text/plain": [
              "149.3662574983337"
            ]
          },
          "metadata": {},
          "execution_count": 53
        }
      ],
      "source": [
        "# Average character length\n",
        "char_lens = [len(sentence) for sentence in train_sentences]\n",
        "mean_char_len = np.mean(char_lens)\n",
        "mean_char_len"
      ]
    },
    {
      "cell_type": "code",
      "execution_count": 54,
      "metadata": {
        "colab": {
          "base_uri": "https://localhost:8080/",
          "height": 0
        },
        "id": "LFKvlCxflwQt",
        "outputId": "bf546030-a214-4b13-a1a9-75dedc0cbf09"
      },
      "outputs": [
        {
          "output_type": "execute_result",
          "data": {
            "text/plain": [
              "(array([9.2691e+04, 7.6343e+04, 9.6890e+03, 1.0890e+03, 1.6700e+02,\n",
              "        4.2000e+01, 1.3000e+01, 3.0000e+00, 2.0000e+00, 1.0000e+00]),\n",
              " array([1.0000e+00, 1.3950e+02, 2.7800e+02, 4.1650e+02, 5.5500e+02,\n",
              "        6.9350e+02, 8.3200e+02, 9.7050e+02, 1.1090e+03, 1.2475e+03,\n",
              "        1.3860e+03]),\n",
              " <BarContainer object of 10 artists>)"
            ]
          },
          "metadata": {},
          "execution_count": 54
        },
        {
          "output_type": "display_data",
          "data": {
            "text/plain": [
              "<Figure size 640x480 with 1 Axes>"
            ],
            "image/png": "[encoded data removed]"
          },
          "metadata": {}
        }
      ],
      "source": [
        "# Check the distribution\n",
        "plt.hist(char_lens, bins=10)"
      ]
    },
    {
      "cell_type": "code",
      "execution_count": 55,
      "metadata": {
        "colab": {
          "base_uri": "https://localhost:8080/"
        },
        "id": "ITX7JQwFl6pc",
        "outputId": "a694b84e-4af7-49ae-fb34-6cc365a2593d"
      },
      "outputs": [
        {
          "output_type": "execute_result",
          "data": {
            "text/plain": [
              "290"
            ]
          },
          "metadata": {},
          "execution_count": 55
        }
      ],
      "source": [
        "# How many character length that covers 95% sequences\n",
        "output_seq_char_len = int(np.percentile(char_lens, 95))\n",
        "output_seq_char_len"
      ]
    },
    {
      "cell_type": "code",
      "execution_count": 56,
      "metadata": {
        "colab": {
          "base_uri": "https://localhost:8080/",
          "height": 0
        },
        "id": "iX82OrcMmIJ4",
        "outputId": "e48720e7-2164-4f42-babf-16019bdee453"
      },
      "outputs": [
        {
          "output_type": "execute_result",
          "data": {
            "text/plain": [
              "'abcdefghijklmnopqrstuvwxyz0123456789!\"#$%&\\'()*+,-./:;<=>?@[\\\\]^_`{|}~'"
            ],
            "application/vnd.google.colaboratory.intrinsic+json": {
              "type": "string"
            }
          },
          "metadata": {},
          "execution_count": 56
        }
      ],
      "source": [
        "# Get all alphanumeric characters for max_vocabulary\n",
        "import string\n",
        "alphabets = string.ascii_lowercase + string.digits + string.punctuation\n",
        "alphabets"
      ]
    },
    {
      "cell_type": "code",
      "execution_count": 57,
      "metadata": {
        "id": "uy9EJZuGmlr7"
      },
      "outputs": [],
      "source": [
        "# Create char-level token vectorizer\n",
        "NUM_CHAR_TOKENS = len(alphabets) + 2 # Add 2 for space and OOV tokens\n",
        "char_vectorizer = TextVectorization(max_tokens=NUM_CHAR_TOKENS, output_sequence_length=output_seq_char_len,\n",
        "                                    pad_to_max_tokens=True, standardize=None)"
      ]
    },
    {
      "cell_type": "code",
      "execution_count": 58,
      "metadata": {
        "id": "07IYqzi6nJZM"
      },
      "outputs": [],
      "source": [
        "# Adapt character vectorizer\n",
        "char_vectorizer.adapt(train_chars)"
      ]
    },
    {
      "cell_type": "code",
      "execution_count": 59,
      "metadata": {
        "id": "sUCyiAF8m9H_",
        "colab": {
          "base_uri": "https://localhost:8080/"
        },
        "outputId": "66ec448e-60fd-4032-d784-6f9de42a148c"
      },
      "outputs": [
        {
          "output_type": "stream",
          "name": "stdout",
          "text": [
            "Sentence:\n",
            "a l t h o u g h   o p i o i d s   a r e   c o m m o n l y   p r e s c r i b e d   t o   a d d r e s s   c h r o n i c   p a i n   ,   t h e y   c o n f e r   r i s k   f o r   m i s u s e   a n d   a d d i c t i o n   i n   s o m e   p a t i e n t s   a n d   m a y   n o t   f u l l y   r e s t o r e   l i f e   f u n c t i o n - p a r t i c u l a r l y   w i t h   r e g a r d   t o   p s y c h o s o c i a l   f a c t o r s   .\n",
            "Sentence after character vectorization:\n",
            "[[ 5 12  3 13  7 16 18 13  7 14  4  7  4 10  9  5  8  2 11  7 15 15  7  6\n",
            "  12 20 14  8  2  9 11  8  4 23  2 10  3  7  5 10 10  8  2  9  9 11 13  8\n",
            "   7  6  4 11 14  5  4  6 24  3 13  2 20 11  7  6 17  2  8  8  4  9 29 17\n",
            "   7  8 15  4  9 16  9  2  5  6 10  5 10 10  4 11  3  4  7  6  4  6  9  7\n",
            "  15  2 14  5  3  4  2  6  3  9  5  6 10 15  5 20  6  7  3 17 16 12 12 20\n",
            "   8  2  9  3  7  8  2 12  4 17  2 17 16  6 11  3  4  7  6 26 14  5  8  3\n",
            "   4 11 16 12  5  8 12 20 21  4  3 13  8  2 18  5  8 10  3  7 14  9 20 11\n",
            "  13  7  9  7 11  4  5 12 17  5 11  3  7  8  9 25  0  0  0  0  0  0  0  0\n",
            "   0  0  0  0  0  0  0  0  0  0  0  0  0  0  0  0  0  0  0  0  0  0  0  0\n",
            "   0  0  0  0  0  0  0  0  0  0  0  0  0  0  0  0  0  0  0  0  0  0  0  0\n",
            "   0  0  0  0  0  0  0  0  0  0  0  0  0  0  0  0  0  0  0  0  0  0  0  0\n",
            "   0  0  0  0  0  0  0  0  0  0  0  0  0  0  0  0  0  0  0  0  0  0  0  0\n",
            "   0  0]]\n",
            "Length of vectorized chars: 290\n"
          ]
        }
      ],
      "source": [
        "# Check character-level vectorizer\n",
        "random_train_chars = random.choice(train_chars)\n",
        "print(f\"Sentence:\\n{random_train_chars}\")\n",
        "print(f\"Sentence after character vectorization:\\n{char_vectorizer([random_train_chars])}\")\n",
        "print(f\"Length of vectorized chars: {len(char_vectorizer([random_train_chars])[0])}\")"
      ]
    },
    {
      "cell_type": "code",
      "execution_count": 60,
      "metadata": {
        "id": "WW_aI_V1nS_X",
        "colab": {
          "base_uri": "https://localhost:8080/"
        },
        "outputId": "81cb6dbb-d83f-493b-91b1-fc848b1cf510"
      },
      "outputs": [
        {
          "output_type": "stream",
          "name": "stdout",
          "text": [
            "Number of different characters in character vocab: 57\n",
            "5 most common characters: ['', '[UNK]', 'e', 't', 'i']\n",
            "5 least common characters: ['|', '\"', ']', '\\\\', '[']\n"
          ]
        }
      ],
      "source": [
        "# Check character vocab stats\n",
        "char_vocab = char_vectorizer.get_vocabulary()\n",
        "print(f\"Number of different characters in character vocab: {len(char_vocab)}\")\n",
        "print(f\"5 most common characters: {char_vocab[:5]}\")\n",
        "print(f\"5 least common characters: {char_vocab[-5:]}\")"
      ]
    },
    {
      "cell_type": "markdown",
      "metadata": {
        "id": "LGyp8TWmnghK"
      },
      "source": [
        "### Create character level-embedding layer"
      ]
    },
    {
      "cell_type": "code",
      "execution_count": 61,
      "metadata": {
        "id": "9dkfFp0cpUJl"
      },
      "outputs": [],
      "source": [
        " # Create character level embedding layer (25 output dimension based on the paper)\n",
        "char_embed = layers.Embedding(input_dim=len(char_vocab), output_dim=25, mask_zero=True, name=\"char_embed\")"
      ]
    },
    {
      "cell_type": "code",
      "execution_count": 62,
      "metadata": {
        "id": "GiC9MElfqIow",
        "colab": {
          "base_uri": "https://localhost:8080/"
        },
        "outputId": "13209531-634f-4e17-d32e-36c483f7f0c4"
      },
      "outputs": [
        {
          "output_type": "stream",
          "name": "stdout",
          "text": [
            "Charified text:\n",
            " a l t h o u g h   o p i o i d s   a r e   c o m m o n l y   p r e s c r i b e d   t o   a d d r e s s   c h r o n i c   p a i n   ,   t h e y   c o n f e r   r i s k   f o r   m i s u s e   a n d   a d d i c t i o n   i n   s o m e   p a t i e n t s   a n d   m a y   n o t   f u l l y   r e s t o r e   l i f e   f u n c t i o n - p a r t i c u l a r l y   w i t h   r e g a r d   t o   p s y c h o s o c i a l   f a c t o r s   .\n",
            "\n",
            "Characters after vectorization and embedding:\n",
            " [[[ 0.02826833  0.02768686  0.03902389 ...  0.03549855  0.03565851\n",
            "    0.04311248]\n",
            "  [-0.00077224 -0.00380287  0.02657082 ...  0.04332909 -0.01341895\n",
            "    0.01222875]\n",
            "  [-0.02217563 -0.02522168  0.02988155 ... -0.0196865   0.01938922\n",
            "   -0.03471348]\n",
            "  ...\n",
            "  [ 0.02685465  0.00699897  0.04150775 ...  0.00430615 -0.04495731\n",
            "   -0.00280191]\n",
            "  [ 0.02685465  0.00699897  0.04150775 ...  0.00430615 -0.04495731\n",
            "   -0.00280191]\n",
            "  [ 0.02685465  0.00699897  0.04150775 ...  0.00430615 -0.04495731\n",
            "   -0.00280191]]]\n",
            "Character embedding shape: (1, 290, 25)\n"
          ]
        }
      ],
      "source": [
        "# Test embedding layer\n",
        "print(f\"Charified text:\\n {random_train_chars}\\n\")\n",
        "char_embed_example = char_embed(char_vectorizer([random_train_chars]))\n",
        "print(f\"Characters after vectorization and embedding:\\n {char_embed_example}\")\n",
        "print(f\"Character embedding shape: {char_embed_example.shape}\")"
      ]
    },
    {
      "cell_type": "markdown",
      "metadata": {
        "id": "MKRC57hTqfYf"
      },
      "source": [
        "### Creating 1D Conv Model with Character Embedding"
      ]
    },
    {
      "cell_type": "code",
      "execution_count": 63,
      "metadata": {
        "id": "BsFKxhNarfmY",
        "colab": {
          "base_uri": "https://localhost:8080/"
        },
        "outputId": "4285896b-bda1-4fbe-e18f-6f0e83cb1fb6"
      },
      "outputs": [
        {
          "output_type": "stream",
          "name": "stdout",
          "text": [
            "Model: \"model_3_conv_char_embeddings\"\n",
            "_________________________________________________________________\n",
            " Layer (type)                Output Shape              Param #   \n",
            "=================================================================\n",
            " input_3 (InputLayer)        [(None, 1)]               0         \n",
            "                                                                 \n",
            " text_vectorization_1 (Text  (None, 290)               0         \n",
            " Vectorization)                                                  \n",
            "                                                                 \n",
            " char_embed (Embedding)      (None, 290, 25)           1425      \n",
            "                                                                 \n",
            " conv1d_1 (Conv1D)           (None, 290, 64)           19264     \n",
            "                                                                 \n",
            " global_max_pooling1d_1 (Gl  (None, 64)                0         \n",
            " obalMaxPooling1D)                                               \n",
            "                                                                 \n",
            " dense_3 (Dense)             (None, 5)                 325       \n",
            "                                                                 \n",
            "=================================================================\n",
            "Total params: 21014 (82.09 KB)\n",
            "Trainable params: 21014 (82.09 KB)\n",
            "Non-trainable params: 0 (0.00 Byte)\n",
            "_________________________________________________________________\n"
          ]
        }
      ],
      "source": [
        "# Make Conv1D model on characters\n",
        "inputs = layers.Input(shape=(1, ), dtype=tf.string)\n",
        "char_vectors = char_vectorizer(inputs)\n",
        "char_embeddings = char_embed(char_vectors)\n",
        "x = layers.Conv1D(64, kernel_size=12, padding=\"same\", activation=\"relu\")(char_embeddings)\n",
        "x = layers.GlobalMaxPooling1D()(x)\n",
        "outputs = layers.Dense(5, activation=\"softmax\")(x)\n",
        "model_3 = tf.keras.Model(inputs, outputs, name=\"model_3_conv_char_embeddings\")\n",
        "\n",
        "# Compile the model\n",
        "model_3.compile(loss=\"categorical_crossentropy\", optimizer=tf.keras.optimizers.Adam(), metrics=[\"accuracy\"])\n",
        "\n",
        "# See summary\n",
        "model_3.summary()"
      ]
    },
    {
      "cell_type": "markdown",
      "metadata": {
        "id": "mHYcDb7Ds9hS"
      },
      "source": [
        "### Create TF dataset for character-level data"
      ]
    },
    {
      "cell_type": "code",
      "execution_count": 64,
      "metadata": {
        "id": "6MZkAAqWtPuD",
        "colab": {
          "base_uri": "https://localhost:8080/"
        },
        "outputId": "31cfdfa0-c686-4470-e3e1-18a6626223ae"
      },
      "outputs": [
        {
          "output_type": "execute_result",
          "data": {
            "text/plain": [
              "<_PrefetchDataset element_spec=(TensorSpec(shape=(None,), dtype=tf.string, name=None), TensorSpec(shape=(None, 5), dtype=tf.float64, name=None))>"
            ]
          },
          "metadata": {},
          "execution_count": 64
        }
      ],
      "source": [
        "train_char_dataset = tf.data.Dataset.from_tensor_slices((train_chars, train_labels_one_hot)).batch(32).prefetch(tf.data.AUTOTUNE)\n",
        "val_char_dataset = tf.data.Dataset.from_tensor_slices((val_chars, val_labels_one_hot)).batch(32).prefetch(tf.data.AUTOTUNE)\n",
        "test_char_dataset = tf.data.Dataset.from_tensor_slices((test_chars, test_labels_one_hot)).batch(32).prefetch(tf.data.AUTOTUNE)\n",
        "\n",
        "train_char_dataset"
      ]
    },
    {
      "cell_type": "markdown",
      "metadata": {
        "id": "DeliCqMdthjD"
      },
      "source": [
        "### Fit & Evaluate Model"
      ]
    },
    {
      "cell_type": "code",
      "execution_count": 65,
      "metadata": {
        "id": "_BcLUbz9t0I-",
        "colab": {
          "base_uri": "https://localhost:8080/"
        },
        "outputId": "a60f103c-2263-405f-fb1b-ff8126b42c4f"
      },
      "outputs": [
        {
          "output_type": "stream",
          "name": "stdout",
          "text": [
            "Epoch 1/5\n",
            "562/562 [==============================] - 8s 11ms/step - loss: 1.1172 - accuracy: 0.5483 - val_loss: 0.8952 - val_accuracy: 0.6519\n",
            "Epoch 2/5\n",
            "562/562 [==============================] - 3s 6ms/step - loss: 0.8432 - accuracy: 0.6628 - val_loss: 0.7936 - val_accuracy: 0.6922\n",
            "Epoch 3/5\n",
            "562/562 [==============================] - 4s 6ms/step - loss: 0.7685 - accuracy: 0.7018 - val_loss: 0.7256 - val_accuracy: 0.7254\n",
            "Epoch 4/5\n",
            "562/562 [==============================] - 4s 7ms/step - loss: 0.7185 - accuracy: 0.7265 - val_loss: 0.6966 - val_accuracy: 0.7344\n",
            "Epoch 5/5\n",
            "562/562 [==============================] - 3s 6ms/step - loss: 0.6999 - accuracy: 0.7342 - val_loss: 0.6757 - val_accuracy: 0.7450\n"
          ]
        }
      ],
      "source": [
        "model_3_history = model_3.fit(train_char_dataset, steps_per_epoch=int(0.1 * len(train_char_dataset)), epochs=5,\n",
        "                              validation_data = val_char_dataset, validation_steps=int(0.1 * len(val_char_dataset)))"
      ]
    },
    {
      "cell_type": "code",
      "execution_count": 66,
      "metadata": {
        "id": "A-3etz5wuDlq",
        "colab": {
          "base_uri": "https://localhost:8080/"
        },
        "outputId": "389b9822-487b-459e-b1e5-a33a75682187"
      },
      "outputs": [
        {
          "output_type": "stream",
          "name": "stdout",
          "text": [
            "945/945 [==============================] - 2s 3ms/step\n"
          ]
        },
        {
          "output_type": "execute_result",
          "data": {
            "text/plain": [
              "{'accuracy': 0.7430822189858335,\n",
              " 'precision': 0.7468668724481962,\n",
              " 'recall': 0.7430822189858335,\n",
              " 'f1': 0.7394544466855512}"
            ]
          },
          "metadata": {},
          "execution_count": 66
        }
      ],
      "source": [
        "# Make predictions\n",
        "model_3_preds_probs = model_3.predict(val_char_dataset)\n",
        "model_3_preds = tf.argmax(model_3_preds_probs, axis=1)\n",
        "\n",
        "# Evaluate\n",
        "model_3_res = evaluate_results(val_labels_encoded, model_3_preds)\n",
        "model_3_res"
      ]
    },
    {
      "cell_type": "markdown",
      "metadata": {
        "id": "AoyZ19Yduy3X"
      },
      "source": [
        "### Model 4 : Combination of pretrained token embeddings + character embeddings"
      ]
    },
    {
      "cell_type": "code",
      "execution_count": 67,
      "metadata": {
        "id": "quZG8oKu1FfP"
      },
      "outputs": [],
      "source": [
        "# Token-level embedding model\n",
        "token_inputs = layers.Input(shape=[], dtype=tf.string, name=\"token_input\")\n",
        "token_embeddings = tf_hub_embedding_layer(token_inputs)\n",
        "token_output = layers.Dense(128, activation=\"relu\")(token_embeddings)\n",
        "token_model = tf.keras.Model(token_inputs, token_output, name=\"token_model\")"
      ]
    },
    {
      "cell_type": "code",
      "execution_count": 68,
      "metadata": {
        "id": "oB2qAWaJ2E3O"
      },
      "outputs": [],
      "source": [
        "# Character-level embedding model\n",
        "char_inputs = layers.Input(shape=(1, ), dtype=tf.string, name=\"char_input\")\n",
        "char_vectors = char_vectorizer(char_inputs)\n",
        "char_embeddings = char_embed(char_vectors)\n",
        "char_bi_lstm = layers.Bidirectional(layers.LSTM(24))(char_embeddings) # Bi-LSTM layer\n",
        "char_model = tf.keras.Model(char_inputs, char_bi_lstm)"
      ]
    },
    {
      "cell_type": "code",
      "execution_count": 69,
      "metadata": {
        "id": "kqH914at2h69"
      },
      "outputs": [],
      "source": [
        "# Concatenante both model (hybrid token embedding)\n",
        "token_char_concat = layers.Concatenate(name=\"token_char_hybrid\")([token_model.output, char_model.output])"
      ]
    },
    {
      "cell_type": "code",
      "execution_count": 70,
      "metadata": {
        "id": "fwS42PMZ32jK"
      },
      "outputs": [],
      "source": [
        "# Create output layers with Dropout\n",
        "combined_dropout = layers.Dropout(0.45)(token_char_concat)\n",
        "combined_dense = layers.Dense(128, activation=\"relu\")(combined_dropout)\n",
        "final_dropout = layers.Dropout(0.45)(combined_dense)\n",
        "output_layer = layers.Dense(5, activation=\"softmax\")(final_dropout)\n",
        "\n",
        "# Construcat model\n",
        "model_4 = tf.keras.Model(inputs=[token_model.input, char_model.input], outputs=output_layer, name=\"model_4_token_char_embeddings\")"
      ]
    },
    {
      "cell_type": "code",
      "execution_count": 71,
      "metadata": {
        "id": "reOprGmA4n5V",
        "colab": {
          "base_uri": "https://localhost:8080/"
        },
        "outputId": "2e945bb2-9661-4684-9136-54f5b5ee8d23"
      },
      "outputs": [
        {
          "output_type": "stream",
          "name": "stdout",
          "text": [
            "Model: \"model_4_token_char_embeddings\"\n",
            "__________________________________________________________________________________________________\n",
            " Layer (type)                Output Shape                 Param #   Connected to                  \n",
            "==================================================================================================\n",
            " char_input (InputLayer)     [(None, 1)]                  0         []                            \n",
            "                                                                                                  \n",
            " token_input (InputLayer)    [(None,)]                    0         []                            \n",
            "                                                                                                  \n",
            " text_vectorization_1 (Text  (None, 290)                  0         ['char_input[0][0]']          \n",
            " Vectorization)                                                                                   \n",
            "                                                                                                  \n",
            " universal_sentence_encoder  (None, 512)                  2567978   ['token_input[0][0]']         \n",
            "  (KerasLayer)                                            24                                      \n",
            "                                                                                                  \n",
            " char_embed (Embedding)      (None, 290, 25)              1425      ['text_vectorization_1[1][0]']\n",
            "                                                                                                  \n",
            " dense_4 (Dense)             (None, 128)                  65664     ['universal_sentence_encoder[1\n",
            "                                                                    ][0]']                        \n",
            "                                                                                                  \n",
            " bidirectional (Bidirection  (None, 48)                   9600      ['char_embed[1][0]']          \n",
            " al)                                                                                              \n",
            "                                                                                                  \n",
            " token_char_hybrid (Concate  (None, 176)                  0         ['dense_4[0][0]',             \n",
            " nate)                                                               'bidirectional[0][0]']       \n",
            "                                                                                                  \n",
            " dropout (Dropout)           (None, 176)                  0         ['token_char_hybrid[0][0]']   \n",
            "                                                                                                  \n",
            " dense_5 (Dense)             (None, 128)                  22656     ['dropout[0][0]']             \n",
            "                                                                                                  \n",
            " dropout_1 (Dropout)         (None, 128)                  0         ['dense_5[0][0]']             \n",
            "                                                                                                  \n",
            " dense_6 (Dense)             (None, 5)                    645       ['dropout_1[0][0]']           \n",
            "                                                                                                  \n",
            "==================================================================================================\n",
            "Total params: 256897814 (979.99 MB)\n",
            "Trainable params: 99990 (390.59 KB)\n",
            "Non-trainable params: 256797824 (979.61 MB)\n",
            "__________________________________________________________________________________________________\n"
          ]
        }
      ],
      "source": [
        "model_4.compile(loss=\"categorical_crossentropy\", optimizer=tf.keras.optimizers.Adam(), metrics=[\"accuracy\"])\n",
        "model_4.summary()"
      ]
    },
    {
      "cell_type": "code",
      "execution_count": 72,
      "metadata": {
        "id": "ottR97Su5BxB",
        "colab": {
          "base_uri": "https://localhost:8080/",
          "height": 976
        },
        "outputId": "d0b0e87a-c21c-4f3f-8681-d572c3940d5c"
      },
      "outputs": [
        {
          "output_type": "execute_result",
          "data": {
            "image/png": "[encoded data removed]",
            "text/plain": [
              "<IPython.core.display.Image object>"
            ]
          },
          "metadata": {},
          "execution_count": 72
        }
      ],
      "source": [
        "# Visualize the model\n",
        "from keras.utils import plot_model\n",
        "plot_model(model_4, show_shapes=True)"
      ]
    },
    {
      "cell_type": "code",
      "execution_count": 73,
      "metadata": {
        "id": "ZFZssf1u8gN5"
      },
      "outputs": [],
      "source": [
        "# Create token and character data into TF Dataset\n",
        "train_token_char_data = tf.data.Dataset.from_tensor_slices((train_sentences, train_chars))\n",
        "train_token_char_labels = tf.data.Dataset.from_tensor_slices(train_labels_one_hot)\n",
        "train_token_char_dataset = tf.data.Dataset.zip(train_token_char_data, train_token_char_labels)\n",
        "\n",
        "val_token_char_data = tf.data.Dataset.from_tensor_slices((val_sentences, val_chars))\n",
        "val_token_char_labels = tf.data.Dataset.from_tensor_slices(val_labels_one_hot)\n",
        "val_token_char_dataset = tf.data.Dataset.zip(val_token_char_data, val_token_char_labels)\n",
        "\n",
        "# Prefetch and batch\n",
        "train_token_char_dataset = train_token_char_dataset.batch(32).prefetch(tf.data.AUTOTUNE)\n",
        "val_token_char_dataset = val_token_char_dataset.batch(32).prefetch(tf.data.AUTOTUNE)"
      ]
    },
    {
      "cell_type": "code",
      "execution_count": 74,
      "metadata": {
        "colab": {
          "base_uri": "https://localhost:8080/"
        },
        "id": "y33XeZEq9-8c",
        "outputId": "5f710d3f-8b48-4ffb-d9c2-c859520f85ff"
      },
      "outputs": [
        {
          "output_type": "stream",
          "name": "stdout",
          "text": [
            "Epoch 1/5\n",
            "562/562 [==============================] - 38s 47ms/step - loss: 0.9495 - accuracy: 0.6203 - val_loss: 0.7584 - val_accuracy: 0.7081\n",
            "Epoch 2/5\n",
            "562/562 [==============================] - 25s 44ms/step - loss: 0.7738 - accuracy: 0.7033 - val_loss: 0.7195 - val_accuracy: 0.7264\n",
            "Epoch 3/5\n",
            "562/562 [==============================] - 22s 40ms/step - loss: 0.7461 - accuracy: 0.7145 - val_loss: 0.6709 - val_accuracy: 0.7450\n",
            "Epoch 4/5\n",
            "562/562 [==============================] - 23s 41ms/step - loss: 0.7027 - accuracy: 0.7342 - val_loss: 0.6436 - val_accuracy: 0.7513\n",
            "Epoch 5/5\n",
            "562/562 [==============================] - 21s 38ms/step - loss: 0.7150 - accuracy: 0.7324 - val_loss: 0.6419 - val_accuracy: 0.7527\n"
          ]
        }
      ],
      "source": [
        "# Fit the model\n",
        "model_4_history = model_4.fit(train_token_char_dataset, steps_per_epoch=int(0.1*len(train_token_char_dataset)),\n",
        "                              epochs=5, validation_data=val_token_char_dataset, validation_steps=int(0.1 * len(val_token_char_dataset)))"
      ]
    },
    {
      "cell_type": "code",
      "execution_count": 75,
      "metadata": {
        "id": "BA7B_m3b-ghM",
        "colab": {
          "base_uri": "https://localhost:8080/"
        },
        "outputId": "56a1a8b2-31aa-4130-935b-1503b181ad8c"
      },
      "outputs": [
        {
          "output_type": "stream",
          "name": "stdout",
          "text": [
            "945/945 [==============================] - 22s 19ms/step\n"
          ]
        },
        {
          "output_type": "execute_result",
          "data": {
            "text/plain": [
              "{'accuracy': 0.7556269032172647,\n",
              " 'precision': 0.7561799777665569,\n",
              " 'recall': 0.7556269032172647,\n",
              " 'f1': 0.7509328922952373}"
            ]
          },
          "metadata": {},
          "execution_count": 75
        }
      ],
      "source": [
        "# Make prediction using model\n",
        "model_4_preds_probs = model_4.predict(val_token_char_dataset)\n",
        "model_4_preds = tf.argmax(model_4_preds_probs, axis = 1)\n",
        "\n",
        "# Evaluate results\n",
        "model_4_res = evaluate_results(val_labels_encoded, model_4_preds)\n",
        "model_4_res"
      ]
    },
    {
      "cell_type": "markdown",
      "metadata": {
        "id": "1gz5IoewAKjy"
      },
      "source": [
        "### Model 5: Pretrained token embeddings + character embeddings + positional embeddings"
      ]
    },
    {
      "cell_type": "code",
      "execution_count": 76,
      "metadata": {
        "id": "oYspxf6gAaWn",
        "colab": {
          "base_uri": "https://localhost:8080/"
        },
        "outputId": "08a63b8d-5231-4ee6-9152-311a9838c1b9"
      },
      "outputs": [
        {
          "output_type": "execute_result",
          "data": {
            "text/plain": [
              "line_num\n",
              "0     15000\n",
              "1     15000\n",
              "2     15000\n",
              "3     15000\n",
              "4     14992\n",
              "5     14949\n",
              "6     14758\n",
              "7     14279\n",
              "8     13346\n",
              "9     11981\n",
              "10    10041\n",
              "11     7892\n",
              "12     5853\n",
              "13     4152\n",
              "14     2835\n",
              "15     1861\n",
              "16     1188\n",
              "17      751\n",
              "18      462\n",
              "19      286\n",
              "20      162\n",
              "21      101\n",
              "22       66\n",
              "23       33\n",
              "24       22\n",
              "25       14\n",
              "26        7\n",
              "27        4\n",
              "28        3\n",
              "29        1\n",
              "30        1\n",
              "Name: count, dtype: int64"
            ]
          },
          "metadata": {},
          "execution_count": 76
        }
      ],
      "source": [
        "# Create positional embeddings\n",
        "\n",
        "# How many different line of numbers are there\n",
        "train_df[\"line_num\"].value_counts()"
      ]
    },
    {
      "cell_type": "code",
      "execution_count": 77,
      "metadata": {
        "id": "UTwN-WC_BtO_",
        "colab": {
          "base_uri": "https://localhost:8080/"
        },
        "outputId": "299093cc-6aa0-4fb4-e3e3-496473241f89"
      },
      "outputs": [
        {
          "output_type": "execute_result",
          "data": {
            "text/plain": [
              "(<tf.Tensor: shape=(10, 15), dtype=float32, numpy=\n",
              " array([[1., 0., 0., 0., 0., 0., 0., 0., 0., 0., 0., 0., 0., 0., 0.],\n",
              "        [0., 1., 0., 0., 0., 0., 0., 0., 0., 0., 0., 0., 0., 0., 0.],\n",
              "        [0., 0., 1., 0., 0., 0., 0., 0., 0., 0., 0., 0., 0., 0., 0.],\n",
              "        [0., 0., 0., 1., 0., 0., 0., 0., 0., 0., 0., 0., 0., 0., 0.],\n",
              "        [0., 0., 0., 0., 1., 0., 0., 0., 0., 0., 0., 0., 0., 0., 0.],\n",
              "        [0., 0., 0., 0., 0., 1., 0., 0., 0., 0., 0., 0., 0., 0., 0.],\n",
              "        [0., 0., 0., 0., 0., 0., 1., 0., 0., 0., 0., 0., 0., 0., 0.],\n",
              "        [0., 0., 0., 0., 0., 0., 0., 1., 0., 0., 0., 0., 0., 0., 0.],\n",
              "        [0., 0., 0., 0., 0., 0., 0., 0., 1., 0., 0., 0., 0., 0., 0.],\n",
              "        [0., 0., 0., 0., 0., 0., 0., 0., 0., 1., 0., 0., 0., 0., 0.]],\n",
              "       dtype=float32)>,\n",
              " TensorShape([180040, 15]))"
            ]
          },
          "metadata": {},
          "execution_count": 77
        }
      ],
      "source": [
        "# One-hot encode the line_number using TensorFlow\n",
        "train_line_numbers_one_hot = tf.one_hot(train_df[\"line_num\"].to_numpy(), depth=15)\n",
        "val_line_numbers_one_hot = tf.one_hot(val_df[\"line_num\"].to_numpy(), depth=15)\n",
        "test_line_numbers_one_hot = tf.one_hot(test_df[\"line_num\"].to_numpy(), depth=15)\n",
        "train_line_numbers_one_hot[:10], train_line_numbers_one_hot.shape"
      ]
    },
    {
      "cell_type": "code",
      "execution_count": 78,
      "metadata": {
        "id": "r6KzmU7MCKtx",
        "colab": {
          "base_uri": "https://localhost:8080/",
          "height": 447
        },
        "outputId": "2d393711-62b5-43a3-e98a-6b0dc3a96c43"
      },
      "outputs": [
        {
          "output_type": "stream",
          "name": "stdout",
          "text": [
            "20.0\n"
          ]
        },
        {
          "output_type": "display_data",
          "data": {
            "text/plain": [
              "<Figure size 640x480 with 1 Axes>"
            ],
            "image/png": "[encoded data removed]"
          },
          "metadata": {}
        }
      ],
      "source": [
        "# One-hot encode the total_lines\n",
        "plt.hist(train_df[\"total_lines\"], bins=15);\n",
        "\n",
        "# Coverage of total_lines on the 95 percentile\n",
        "print(np.percentile(train_df[\"total_lines\"], 98));"
      ]
    },
    {
      "cell_type": "code",
      "execution_count": 79,
      "metadata": {
        "id": "PbecZ2YICxhR",
        "colab": {
          "base_uri": "https://localhost:8080/"
        },
        "outputId": "f41d776e-be81-4f42-e6d5-52be7b4ac6e7"
      },
      "outputs": [
        {
          "output_type": "execute_result",
          "data": {
            "text/plain": [
              "(<tf.Tensor: shape=(10, 20), dtype=float32, numpy=\n",
              " array([[0., 0., 0., 0., 0., 0., 0., 0., 0., 0., 0., 1., 0., 0., 0., 0.,\n",
              "         0., 0., 0., 0.],\n",
              "        [0., 0., 0., 0., 0., 0., 0., 0., 0., 0., 0., 1., 0., 0., 0., 0.,\n",
              "         0., 0., 0., 0.],\n",
              "        [0., 0., 0., 0., 0., 0., 0., 0., 0., 0., 0., 1., 0., 0., 0., 0.,\n",
              "         0., 0., 0., 0.],\n",
              "        [0., 0., 0., 0., 0., 0., 0., 0., 0., 0., 0., 1., 0., 0., 0., 0.,\n",
              "         0., 0., 0., 0.],\n",
              "        [0., 0., 0., 0., 0., 0., 0., 0., 0., 0., 0., 1., 0., 0., 0., 0.,\n",
              "         0., 0., 0., 0.],\n",
              "        [0., 0., 0., 0., 0., 0., 0., 0., 0., 0., 0., 1., 0., 0., 0., 0.,\n",
              "         0., 0., 0., 0.],\n",
              "        [0., 0., 0., 0., 0., 0., 0., 0., 0., 0., 0., 1., 0., 0., 0., 0.,\n",
              "         0., 0., 0., 0.],\n",
              "        [0., 0., 0., 0., 0., 0., 0., 0., 0., 0., 0., 1., 0., 0., 0., 0.,\n",
              "         0., 0., 0., 0.],\n",
              "        [0., 0., 0., 0., 0., 0., 0., 0., 0., 0., 0., 1., 0., 0., 0., 0.,\n",
              "         0., 0., 0., 0.],\n",
              "        [0., 0., 0., 0., 0., 0., 0., 0., 0., 0., 0., 1., 0., 0., 0., 0.,\n",
              "         0., 0., 0., 0.]], dtype=float32)>,\n",
              " TensorShape([180040, 20]))"
            ]
          },
          "metadata": {},
          "execution_count": 79
        }
      ],
      "source": [
        "train_total_lines_one_hot = tf.one_hot(train_df[\"total_lines\"].to_numpy(), depth=20)\n",
        "val_total_lines_one_hot = tf.one_hot(val_df[\"total_lines\"].to_numpy(), depth=20)\n",
        "test_total_lines_one_hot = tf.one_hot(test_df[\"total_lines\"].to_numpy(), depth=20)\n",
        "train_total_lines_one_hot[:10], train_total_lines_one_hot.shape"
      ]
    },
    {
      "cell_type": "markdown",
      "metadata": {
        "id": "Gja6-YM_DSi7"
      },
      "source": [
        "#### Building the model"
      ]
    },
    {
      "cell_type": "code",
      "execution_count": 80,
      "metadata": {
        "id": "PLwUY0ftD_xT"
      },
      "outputs": [],
      "source": [
        "# Token-level model\n",
        "token_inputs = layers.Input(shape=[], dtype=tf.string, name=\"token_input\")\n",
        "token_embeddings = tf_hub_embedding_layer(token_inputs)\n",
        "token_output = layers.Dense(192, activation=\"relu\")(token_embeddings)\n",
        "token_model = tf.keras.Model(token_inputs, token_output, name=\"token_model\")\n",
        "\n",
        "# Character-level model\n",
        "char_inputs = layers.Input(shape=(1, ), dtype=tf.string, name=\"char_input\")\n",
        "char_vectors = char_vectorizer(char_inputs)\n",
        "char_embeddings = char_embed(char_vectors)\n",
        "char_bi_lstm = layers.Bidirectional(layers.LSTM(24))(char_embeddings) # Bi-LSTM layer\n",
        "char_model = tf.keras.Model(char_inputs, char_bi_lstm)\n",
        "\n",
        "# Line-number model\n",
        "line_num_inputs = layers.Input(shape=(15, ), dtype=tf.float32, name=\"line_num_input\")\n",
        "line_num_dense = layers.Dense(32, activation=\"relu\")(line_num_inputs)\n",
        "line_num_model = tf.keras.Model(line_num_inputs, line_num_dense, name=\"line_num_model\")\n",
        "\n",
        "# Total_lines model\n",
        "total_line_inputs = layers.Input(shape=(20, ), dtype=tf.float32,  name=\"total_lines_input\")\n",
        "total_line_dense = layers.Dense(32, activation=\"relu\")(total_line_inputs)\n",
        "total_line_model = tf.keras.Model(total_line_inputs, total_line_dense, name=\"total_lines_model\")\n",
        "\n",
        "# Concatenate the outputs of token-level and character level model\n",
        "combined_embedding = layers.Concatenate(name=\"token_char_hybrid_embedding\")([token_model.output, char_model.output])\n",
        "\n",
        "dropout_layer = layers.Dense(256, activation=\"relu\")(combined_embedding)\n",
        "dropout_layer = layers.Dropout(0.45)(dropout_layer)\n",
        "\n",
        "# Concatenate the line number, total_lines, and the combined model of token and character level model\n",
        "tribrid_embeddings = layers.Concatenate(name=\"char_token_positional_embedding\")([line_num_model.output,\n",
        "                                                                                 total_line_model.output, dropout_layer])\n",
        "\n",
        "# Output layer\n",
        "output_layer = layers.Dense(5, activation=\"softmax\", name=\"output_layer\")(tribrid_embeddings)\n",
        "\n",
        "# Model\n",
        "model_5 = tf.keras.Model(inputs=[line_num_model.input, total_line_model.input, token_model.input, char_model.input],\n",
        "                         outputs=output_layer, name=\"model_5_tribrid\")"
      ]
    },
    {
      "cell_type": "code",
      "execution_count": 81,
      "metadata": {
        "id": "J6RMJvPdG239",
        "colab": {
          "base_uri": "https://localhost:8080/"
        },
        "outputId": "1c7cd60f-e370-4917-c8cf-c7ca0b28472b"
      },
      "outputs": [
        {
          "output_type": "stream",
          "name": "stdout",
          "text": [
            "Model: \"model_5_tribrid\"\n",
            "__________________________________________________________________________________________________\n",
            " Layer (type)                Output Shape                 Param #   Connected to                  \n",
            "==================================================================================================\n",
            " char_input (InputLayer)     [(None, 1)]                  0         []                            \n",
            "                                                                                                  \n",
            " token_input (InputLayer)    [(None,)]                    0         []                            \n",
            "                                                                                                  \n",
            " text_vectorization_1 (Text  (None, 290)                  0         ['char_input[0][0]']          \n",
            " Vectorization)                                                                                   \n",
            "                                                                                                  \n",
            " universal_sentence_encoder  (None, 512)                  2567978   ['token_input[0][0]']         \n",
            "  (KerasLayer)                                            24                                      \n",
            "                                                                                                  \n",
            " char_embed (Embedding)      (None, 290, 25)              1425      ['text_vectorization_1[2][0]']\n",
            "                                                                                                  \n",
            " dense_7 (Dense)             (None, 192)                  98496     ['universal_sentence_encoder[2\n",
            "                                                                    ][0]']                        \n",
            "                                                                                                  \n",
            " bidirectional_1 (Bidirecti  (None, 48)                   9600      ['char_embed[2][0]']          \n",
            " onal)                                                                                            \n",
            "                                                                                                  \n",
            " token_char_hybrid_embeddin  (None, 240)                  0         ['dense_7[0][0]',             \n",
            " g (Concatenate)                                                     'bidirectional_1[0][0]']     \n",
            "                                                                                                  \n",
            " line_num_input (InputLayer  [(None, 15)]                 0         []                            \n",
            " )                                                                                                \n",
            "                                                                                                  \n",
            " total_lines_input (InputLa  [(None, 20)]                 0         []                            \n",
            " yer)                                                                                             \n",
            "                                                                                                  \n",
            " dense_10 (Dense)            (None, 256)                  61696     ['token_char_hybrid_embedding[\n",
            "                                                                    0][0]']                       \n",
            "                                                                                                  \n",
            " dense_8 (Dense)             (None, 32)                   512       ['line_num_input[0][0]']      \n",
            "                                                                                                  \n",
            " dense_9 (Dense)             (None, 32)                   672       ['total_lines_input[0][0]']   \n",
            "                                                                                                  \n",
            " dropout_2 (Dropout)         (None, 256)                  0         ['dense_10[0][0]']            \n",
            "                                                                                                  \n",
            " char_token_positional_embe  (None, 320)                  0         ['dense_8[0][0]',             \n",
            " dding (Concatenate)                                                 'dense_9[0][0]',             \n",
            "                                                                     'dropout_2[0][0]']           \n",
            "                                                                                                  \n",
            " output_layer (Dense)        (None, 5)                    1605      ['char_token_positional_embedd\n",
            "                                                                    ing[0][0]']                   \n",
            "                                                                                                  \n",
            "==================================================================================================\n",
            "Total params: 256971830 (980.27 MB)\n",
            "Trainable params: 174006 (679.71 KB)\n",
            "Non-trainable params: 256797824 (979.61 MB)\n",
            "__________________________________________________________________________________________________\n"
          ]
        }
      ],
      "source": [
        "model_5.summary()"
      ]
    },
    {
      "cell_type": "code",
      "execution_count": 82,
      "metadata": {
        "id": "rd1TnJNQHV-m",
        "colab": {
          "base_uri": "https://localhost:8080/",
          "height": 806
        },
        "outputId": "08e086ae-364b-47e2-d02b-d1f459e950b0"
      },
      "outputs": [
        {
          "output_type": "execute_result",
          "data": {
            "image/png": "[encoded data removed]",
            "text/plain": [
              "<IPython.core.display.Image object>"
            ]
          },
          "metadata": {},
          "execution_count": 82
        }
      ],
      "source": [
        "# Visualize the model\n",
        "plot_model(model_5, show_shapes=True)"
      ]
    },
    {
      "cell_type": "code",
      "execution_count": 83,
      "metadata": {
        "id": "PtgJHODFHf-G"
      },
      "outputs": [],
      "source": [
        "# Label smoothing to prevent overfitting\n",
        "model_5.compile(loss=tf.keras.losses.CategoricalCrossentropy(label_smoothing=0.2),\n",
        "                optimizer=tf.keras.optimizers.Adam(), metrics=[\"accuracy\"])"
      ]
    },
    {
      "cell_type": "markdown",
      "metadata": {
        "id": "dtQtKUUrbImh"
      },
      "source": [
        "#### Create dataset for tribrid embedding"
      ]
    },
    {
      "cell_type": "code",
      "execution_count": 84,
      "metadata": {
        "id": "SYF_kCUJbORF"
      },
      "outputs": [],
      "source": [
        "# Dataset with all four input data\n",
        "# Training data\n",
        "train_char_token_pos_data = tf.data.Dataset.from_tensor_slices((train_line_numbers_one_hot, train_total_lines_one_hot, train_sentences, train_chars))\n",
        "train_char_token_pos_labels = tf.data.Dataset.from_tensor_slices(train_labels_one_hot)\n",
        "train_char_token_pos_dataset = tf.data.Dataset.zip((train_char_token_pos_data, train_char_token_pos_labels))\n",
        "train_char_token_pos_dataset = train_char_token_pos_dataset.batch(32).prefetch(tf.data.AUTOTUNE)\n",
        "\n",
        "# Validation data\n",
        "val_char_token_pos_data = tf.data.Dataset.from_tensor_slices((val_line_numbers_one_hot, val_total_lines_one_hot, val_sentences, val_chars))\n",
        "val_char_token_pos_labels = tf.data.Dataset.from_tensor_slices(val_labels_one_hot)\n",
        "val_char_token_pos_dataset = tf.data.Dataset.zip((val_char_token_pos_data, val_char_token_pos_labels))\n",
        "val_char_token_pos_dataset = val_char_token_pos_dataset.batch(32).prefetch(tf.data.AUTOTUNE)"
      ]
    },
    {
      "cell_type": "code",
      "execution_count": 85,
      "metadata": {
        "id": "umNz2-m3b9BK",
        "colab": {
          "base_uri": "https://localhost:8080/"
        },
        "outputId": "8d1fce22-ab36-4d1d-a966-16f4ebffbbd0"
      },
      "outputs": [
        {
          "output_type": "execute_result",
          "data": {
            "text/plain": [
              "(<_PrefetchDataset element_spec=((TensorSpec(shape=(None, 15), dtype=tf.float32, name=None), TensorSpec(shape=(None, 20), dtype=tf.float32, name=None), TensorSpec(shape=(None,), dtype=tf.string, name=None), TensorSpec(shape=(None,), dtype=tf.string, name=None)), TensorSpec(shape=(None, 5), dtype=tf.float64, name=None))>,\n",
              " <_PrefetchDataset element_spec=((TensorSpec(shape=(None, 15), dtype=tf.float32, name=None), TensorSpec(shape=(None, 20), dtype=tf.float32, name=None), TensorSpec(shape=(None,), dtype=tf.string, name=None), TensorSpec(shape=(None,), dtype=tf.string, name=None)), TensorSpec(shape=(None, 5), dtype=tf.float64, name=None))>)"
            ]
          },
          "metadata": {},
          "execution_count": 85
        }
      ],
      "source": [
        "# Check input shapes\n",
        "train_char_token_pos_dataset, val_char_token_pos_dataset"
      ]
    },
    {
      "cell_type": "markdown",
      "metadata": {
        "id": "Q0-CmZW2c_eW"
      },
      "source": [
        "#### Fit and evaluate the model"
      ]
    },
    {
      "cell_type": "code",
      "execution_count": 86,
      "metadata": {
        "id": "LxLHeAoIdBwb",
        "colab": {
          "base_uri": "https://localhost:8080/"
        },
        "outputId": "cc5a8023-e58f-4cf1-f186-d9414391a3b2"
      },
      "outputs": [
        {
          "output_type": "stream",
          "name": "stdout",
          "text": [
            "Epoch 1/5\n",
            "562/562 [==============================] - 38s 50ms/step - loss: 1.0791 - accuracy: 0.7356 - val_loss: 0.9703 - val_accuracy: 0.8068\n",
            "Epoch 2/5\n",
            "562/562 [==============================] - 28s 50ms/step - loss: 0.9536 - accuracy: 0.8262 - val_loss: 0.9412 - val_accuracy: 0.8324\n",
            "Epoch 3/5\n",
            "562/562 [==============================] - 23s 41ms/step - loss: 0.9365 - accuracy: 0.8342 - val_loss: 0.9257 - val_accuracy: 0.8484\n",
            "Epoch 4/5\n",
            "562/562 [==============================] - 24s 43ms/step - loss: 0.9274 - accuracy: 0.8453 - val_loss: 0.9235 - val_accuracy: 0.8398\n",
            "Epoch 5/5\n",
            "562/562 [==============================] - 22s 39ms/step - loss: 0.9245 - accuracy: 0.8454 - val_loss: 0.9142 - val_accuracy: 0.8491\n"
          ]
        }
      ],
      "source": [
        "model_5_history = model_5.fit(train_char_token_pos_dataset, steps_per_epoch=int(0.1 * len(train_char_token_pos_dataset)),\n",
        "                              epochs=5, validation_data=val_char_token_pos_dataset, validation_steps=int(0.1 * len(val_char_token_pos_dataset)))\n"
      ]
    },
    {
      "cell_type": "code",
      "execution_count": 87,
      "metadata": {
        "id": "ilu_AOw7dSsz",
        "colab": {
          "base_uri": "https://localhost:8080/"
        },
        "outputId": "28ee5334-c705-42f6-b4e6-d0d75f7e7e10"
      },
      "outputs": [
        {
          "output_type": "stream",
          "name": "stdout",
          "text": [
            "945/945 [==============================] - 20s 19ms/step\n"
          ]
        },
        {
          "output_type": "execute_result",
          "data": {
            "text/plain": [
              "{'accuracy': 0.8500926784059314,\n",
              " 'precision': 0.8538046951367546,\n",
              " 'recall': 0.8500926784059314,\n",
              " 'f1': 0.8463909693643541}"
            ]
          },
          "metadata": {},
          "execution_count": 87
        }
      ],
      "source": [
        "# Predict and evaluate model\n",
        "model_5_preds_probs = model_5.predict(val_char_token_pos_dataset)\n",
        "model_5_preds = tf.argmax(model_5_preds_probs, axis=1)\n",
        "\n",
        "model_5_res = evaluate_results(val_labels_encoded, model_5_preds)\n",
        "model_5_res"
      ]
    },
    {
      "cell_type": "markdown",
      "metadata": {
        "id": "3xdCX1DbdwCm"
      },
      "source": [
        "## Compare Model Results"
      ]
    },
    {
      "cell_type": "code",
      "execution_count": 88,
      "metadata": {
        "id": "Zp3SKVkihSG-",
        "colab": {
          "base_uri": "https://localhost:8080/",
          "height": 238
        },
        "outputId": "dd6b5d6a-b4e5-4c08-d74b-c7cb9371b97a"
      },
      "outputs": [
        {
          "output_type": "execute_result",
          "data": {
            "text/plain": [
              "                                     accuracy  precision    recall        f1\n",
              "model_0_baseline                     0.721832   0.718647  0.721832  0.698925\n",
              "model_1_custom_token_embedding       0.817854   0.820149  0.817854  0.815205\n",
              "model_2_pretrained_token_embedding   0.735635   0.731655  0.735635  0.729868\n",
              "model_3_custom_char_embedding        0.743082   0.746867  0.743082  0.739454\n",
              "model_4_hybrid_char_token_embedding  0.755627   0.756180  0.755627  0.750933\n",
              "model_5_pos_char_token_embedding     0.850093   0.853805  0.850093  0.846391"
            ],
            "text/html": [
              "\n",
              "  <div id=\"df-c032ec61-787d-4f8f-9136-bd1c1e92ed67\" class=\"colab-df-container\">\n",
              "    <div>\n",
              "<style scoped>\n",
              "    .dataframe tbody tr th:only-of-type {\n",
              "        vertical-align: middle;\n",
              "    }\n",
              "\n",
              "    .dataframe tbody tr th {\n",
              "        vertical-align: top;\n",
              "    }\n",
              "\n",
              "    .dataframe thead th {\n",
              "        text-align: right;\n",
              "    }\n",
              "</style>\n",
              "<table border=\"1\" class=\"dataframe\">\n",
              "  <thead>\n",
              "    <tr style=\"text-align: right;\">\n",
              "      <th></th>\n",
              "      <th>accuracy</th>\n",
              "      <th>precision</th>\n",
              "      <th>recall</th>\n",
              "      <th>f1</th>\n",
              "    </tr>\n",
              "  </thead>\n",
              "  <tbody>\n",
              "    <tr>\n",
              "      <th>model_0_baseline</th>\n",
              "      <td>0.721832</td>\n",
              "      <td>0.718647</td>\n",
              "      <td>0.721832</td>\n",
              "      <td>0.698925</td>\n",
              "    </tr>\n",
              "    <tr>\n",
              "      <th>model_1_custom_token_embedding</th>\n",
              "      <td>0.817854</td>\n",
              "      <td>0.820149</td>\n",
              "      <td>0.817854</td>\n",
              "      <td>0.815205</td>\n",
              "    </tr>\n",
              "    <tr>\n",
              "      <th>model_2_pretrained_token_embedding</th>\n",
              "      <td>0.735635</td>\n",
              "      <td>0.731655</td>\n",
              "      <td>0.735635</td>\n",
              "      <td>0.729868</td>\n",
              "    </tr>\n",
              "    <tr>\n",
              "      <th>model_3_custom_char_embedding</th>\n",
              "      <td>0.743082</td>\n",
              "      <td>0.746867</td>\n",
              "      <td>0.743082</td>\n",
              "      <td>0.739454</td>\n",
              "    </tr>\n",
              "    <tr>\n",
              "      <th>model_4_hybrid_char_token_embedding</th>\n",
              "      <td>0.755627</td>\n",
              "      <td>0.756180</td>\n",
              "      <td>0.755627</td>\n",
              "      <td>0.750933</td>\n",
              "    </tr>\n",
              "    <tr>\n",
              "      <th>model_5_pos_char_token_embedding</th>\n",
              "      <td>0.850093</td>\n",
              "      <td>0.853805</td>\n",
              "      <td>0.850093</td>\n",
              "      <td>0.846391</td>\n",
              "    </tr>\n",
              "  </tbody>\n",
              "</table>\n",
              "</div>\n",
              "    <div class=\"colab-df-buttons\">\n",
              "\n",
              "  <div class=\"colab-df-container\">\n",
              "    <button class=\"colab-df-convert\" onclick=\"convertToInteractive('df-c032ec61-787d-4f8f-9136-bd1c1e92ed67')\"\n",
              "            title=\"Convert this dataframe to an interactive table.\"\n",
              "            style=\"display:none;\">\n",
              "\n",
              "  <svg xmlns=\"http://www.w3.org/2000/svg\" height=\"24px\" viewBox=\"0 -960 960 960\">\n",
              "    <path d=\"M120-120v-720h720v720H120Zm60-500h600v-160H180v160Zm220 220h160v-160H400v160Zm0 220h160v-160H400v160ZM180-400h160v-160H180v160Zm440 0h160v-160H620v160ZM180-180h160v-160H180v160Zm440 0h160v-160H620v160Z\"/>\n",
              "  </svg>\n",
              "    </button>\n",
              "\n",
              "  <style>\n",
              "    .colab-df-container {\n",
              "      display:flex;\n",
              "      gap: 12px;\n",
              "    }\n",
              "\n",
              "    .colab-df-convert {\n",
              "      background-color: #E8F0FE;\n",
              "      border: none;\n",
              "      border-radius: 50%;\n",
              "      cursor: pointer;\n",
              "      display: none;\n",
              "      fill: #1967D2;\n",
              "      height: 32px;\n",
              "      padding: 0 0 0 0;\n",
              "      width: 32px;\n",
              "    }\n",
              "\n",
              "    .colab-df-convert:hover {\n",
              "      background-color: #E2EBFA;\n",
              "      box-shadow: 0px 1px 2px rgba(60, 64, 67, 0.3), 0px 1px 3px 1px rgba(60, 64, 67, 0.15);\n",
              "      fill: #174EA6;\n",
              "    }\n",
              "\n",
              "    .colab-df-buttons div {\n",
              "      margin-bottom: 4px;\n",
              "    }\n",
              "\n",
              "    [theme=dark] .colab-df-convert {\n",
              "      background-color: #3B4455;\n",
              "      fill: #D2E3FC;\n",
              "    }\n",
              "\n",
              "    [theme=dark] .colab-df-convert:hover {\n",
              "      background-color: #434B5C;\n",
              "      box-shadow: 0px 1px 3px 1px rgba(0, 0, 0, 0.15);\n",
              "      filter: drop-shadow(0px 1px 2px rgba(0, 0, 0, 0.3));\n",
              "      fill: #FFFFFF;\n",
              "    }\n",
              "  </style>\n",
              "\n",
              "    <script>\n",
              "      const buttonEl =\n",
              "        document.querySelector('#df-c032ec61-787d-4f8f-9136-bd1c1e92ed67 button.colab-df-convert');\n",
              "      buttonEl.style.display =\n",
              "        google.colab.kernel.accessAllowed ? 'block' : 'none';\n",
              "\n",
              "      async function convertToInteractive(key) {\n",
              "        const element = document.querySelector('#df-c032ec61-787d-4f8f-9136-bd1c1e92ed67');\n",
              "        const dataTable =\n",
              "          await google.colab.kernel.invokeFunction('convertToInteractive',\n",
              "                                                    [key], {});\n",
              "        if (!dataTable) return;\n",
              "\n",
              "        const docLinkHtml = 'Like what you see? Visit the ' +\n",
              "          '<a target=\"_blank\" href=https://colab.research.google.com/notebooks/data_table.ipynb>data table notebook</a>'\n",
              "          + ' to learn more about interactive tables.';\n",
              "        element.innerHTML = '';\n",
              "        dataTable['output_type'] = 'display_data';\n",
              "        await google.colab.output.renderOutput(dataTable, element);\n",
              "        const docLink = document.createElement('div');\n",
              "        docLink.innerHTML = docLinkHtml;\n",
              "        element.appendChild(docLink);\n",
              "      }\n",
              "    </script>\n",
              "  </div>\n",
              "\n",
              "\n",
              "<div id=\"df-b5be4bb0-c214-4299-890c-41ad850d7d46\">\n",
              "  <button class=\"colab-df-quickchart\" onclick=\"quickchart('df-b5be4bb0-c214-4299-890c-41ad850d7d46')\"\n",
              "            title=\"Suggest charts\"\n",
              "            style=\"display:none;\">\n",
              "\n",
              "<svg xmlns=\"http://www.w3.org/2000/svg\" height=\"24px\"viewBox=\"0 0 24 24\"\n",
              "     width=\"24px\">\n",
              "    <g>\n",
              "        <path d=\"M19 3H5c-1.1 0-2 .9-2 2v14c0 1.1.9 2 2 2h14c1.1 0 2-.9 2-2V5c0-1.1-.9-2-2-2zM9 17H7v-7h2v7zm4 0h-2V7h2v10zm4 0h-2v-4h2v4z\"/>\n",
              "    </g>\n",
              "</svg>\n",
              "  </button>\n",
              "\n",
              "<style>\n",
              "  .colab-df-quickchart {\n",
              "      --bg-color: #E8F0FE;\n",
              "      --fill-color: #1967D2;\n",
              "      --hover-bg-color: #E2EBFA;\n",
              "      --hover-fill-color: #174EA6;\n",
              "      --disabled-fill-color: #AAA;\n",
              "      --disabled-bg-color: #DDD;\n",
              "  }\n",
              "\n",
              "  [theme=dark] .colab-df-quickchart {\n",
              "      --bg-color: #3B4455;\n",
              "      --fill-color: #D2E3FC;\n",
              "      --hover-bg-color: #434B5C;\n",
              "      --hover-fill-color: #FFFFFF;\n",
              "      --disabled-bg-color: #3B4455;\n",
              "      --disabled-fill-color: #666;\n",
              "  }\n",
              "\n",
              "  .colab-df-quickchart {\n",
              "    background-color: var(--bg-color);\n",
              "    border: none;\n",
              "    border-radius: 50%;\n",
              "    cursor: pointer;\n",
              "    display: none;\n",
              "    fill: var(--fill-color);\n",
              "    height: 32px;\n",
              "    padding: 0;\n",
              "    width: 32px;\n",
              "  }\n",
              "\n",
              "  .colab-df-quickchart:hover {\n",
              "    background-color: var(--hover-bg-color);\n",
              "    box-shadow: 0 1px 2px rgba(60, 64, 67, 0.3), 0 1px 3px 1px rgba(60, 64, 67, 0.15);\n",
              "    fill: var(--button-hover-fill-color);\n",
              "  }\n",
              "\n",
              "  .colab-df-quickchart-complete:disabled,\n",
              "  .colab-df-quickchart-complete:disabled:hover {\n",
              "    background-color: var(--disabled-bg-color);\n",
              "    fill: var(--disabled-fill-color);\n",
              "    box-shadow: none;\n",
              "  }\n",
              "\n",
              "  .colab-df-spinner {\n",
              "    border: 2px solid var(--fill-color);\n",
              "    border-color: transparent;\n",
              "    border-bottom-color: var(--fill-color);\n",
              "    animation:\n",
              "      spin 1s steps(1) infinite;\n",
              "  }\n",
              "\n",
              "  @keyframes spin {\n",
              "    0% {\n",
              "      border-color: transparent;\n",
              "      border-bottom-color: var(--fill-color);\n",
              "      border-left-color: var(--fill-color);\n",
              "    }\n",
              "    20% {\n",
              "      border-color: transparent;\n",
              "      border-left-color: var(--fill-color);\n",
              "      border-top-color: var(--fill-color);\n",
              "    }\n",
              "    30% {\n",
              "      border-color: transparent;\n",
              "      border-left-color: var(--fill-color);\n",
              "      border-top-color: var(--fill-color);\n",
              "      border-right-color: var(--fill-color);\n",
              "    }\n",
              "    40% {\n",
              "      border-color: transparent;\n",
              "      border-right-color: var(--fill-color);\n",
              "      border-top-color: var(--fill-color);\n",
              "    }\n",
              "    60% {\n",
              "      border-color: transparent;\n",
              "      border-right-color: var(--fill-color);\n",
              "    }\n",
              "    80% {\n",
              "      border-color: transparent;\n",
              "      border-right-color: var(--fill-color);\n",
              "      border-bottom-color: var(--fill-color);\n",
              "    }\n",
              "    90% {\n",
              "      border-color: transparent;\n",
              "      border-bottom-color: var(--fill-color);\n",
              "    }\n",
              "  }\n",
              "</style>\n",
              "\n",
              "  <script>\n",
              "    async function quickchart(key) {\n",
              "      const quickchartButtonEl =\n",
              "        document.querySelector('#' + key + ' button');\n",
              "      quickchartButtonEl.disabled = true;  // To prevent multiple clicks.\n",
              "      quickchartButtonEl.classList.add('colab-df-spinner');\n",
              "      try {\n",
              "        const charts = await google.colab.kernel.invokeFunction(\n",
              "            'suggestCharts', [key], {});\n",
              "      } catch (error) {\n",
              "        console.error('Error during call to suggestCharts:', error);\n",
              "      }\n",
              "      quickchartButtonEl.classList.remove('colab-df-spinner');\n",
              "      quickchartButtonEl.classList.add('colab-df-quickchart-complete');\n",
              "    }\n",
              "    (() => {\n",
              "      let quickchartButtonEl =\n",
              "        document.querySelector('#df-b5be4bb0-c214-4299-890c-41ad850d7d46 button');\n",
              "      quickchartButtonEl.style.display =\n",
              "        google.colab.kernel.accessAllowed ? 'block' : 'none';\n",
              "    })();\n",
              "  </script>\n",
              "</div>\n",
              "    </div>\n",
              "  </div>\n"
            ],
            "application/vnd.google.colaboratory.intrinsic+json": {
              "type": "dataframe",
              "variable_name": "all_model_results",
              "summary": "{\n  \"name\": \"all_model_results\",\n  \"rows\": 6,\n  \"fields\": [\n    {\n      \"column\": \"accuracy\",\n      \"properties\": {\n        \"dtype\": \"number\",\n        \"std\": 0.0512527642604165,\n        \"min\": 0.7218323844829869,\n        \"max\": 0.8500926784059314,\n        \"num_unique_values\": 6,\n        \"samples\": [\n          0.7218323844829869,\n          0.8178538329140739,\n          0.8500926784059314\n        ],\n        \"semantic_type\": \"\",\n        \"description\": \"\"\n      }\n    },\n    {\n      \"column\": \"precision\",\n      \"properties\": {\n        \"dtype\": \"number\",\n        \"std\": 0.053596474780123166,\n        \"min\": 0.7186466952323352,\n        \"max\": 0.8538046951367546,\n        \"num_unique_values\": 6,\n        \"samples\": [\n          0.7186466952323352,\n          0.8201487401968537,\n          0.8538046951367546\n        ],\n        \"semantic_type\": \"\",\n        \"description\": \"\"\n      }\n    },\n    {\n      \"column\": \"recall\",\n      \"properties\": {\n        \"dtype\": \"number\",\n        \"std\": 0.0512527642604165,\n        \"min\": 0.7218323844829869,\n        \"max\": 0.8500926784059314,\n        \"num_unique_values\": 6,\n        \"samples\": [\n          0.7218323844829869,\n          0.8178538329140739,\n          0.8500926784059314\n        ],\n        \"semantic_type\": \"\",\n        \"description\": \"\"\n      }\n    },\n    {\n      \"column\": \"f1\",\n      \"properties\": {\n        \"dtype\": \"number\",\n        \"std\": 0.05582378472812715,\n        \"min\": 0.6989250353450294,\n        \"max\": 0.8463909693643541,\n        \"num_unique_values\": 6,\n        \"samples\": [\n          0.6989250353450294,\n          0.8152048527902559,\n          0.8463909693643541\n        ],\n        \"semantic_type\": \"\",\n        \"description\": \"\"\n      }\n    }\n  ]\n}"
            }
          },
          "metadata": {},
          "execution_count": 88
        }
      ],
      "source": [
        "all_model_results = pd.DataFrame({\"model_0_baseline\": model_0_res,\n",
        "                                  \"model_1_custom_token_embedding\": model_1_res,\n",
        "                                  \"model_2_pretrained_token_embedding\": model_2_res,\n",
        "                                  \"model_3_custom_char_embedding\": model_3_res,\n",
        "                                  \"model_4_hybrid_char_token_embedding\": model_4_res,\n",
        "                                  \"model_5_pos_char_token_embedding\": model_5_res})\n",
        "\n",
        "all_model_results = all_model_results.transpose()\n",
        "all_model_results"
      ]
    },
    {
      "cell_type": "code",
      "execution_count": 89,
      "metadata": {
        "id": "BwV3B6t9obJ4",
        "colab": {
          "base_uri": "https://localhost:8080/",
          "height": 882
        },
        "outputId": "0e204405-119b-4171-db30-f18a7dda76ad"
      },
      "outputs": [
        {
          "output_type": "execute_result",
          "data": {
            "text/plain": [
              "<matplotlib.legend.Legend at 0x78c070758c40>"
            ]
          },
          "metadata": {},
          "execution_count": 89
        },
        {
          "output_type": "display_data",
          "data": {
            "text/plain": [
              "<Figure size 1000x700 with 1 Axes>"
            ],
            "image/png": "[encoded data removed]"
          },
          "metadata": {}
        }
      ],
      "source": [
        "# Plot all model results\n",
        "all_model_results.plot(kind=\"bar\", figsize=(10,7)).legend(bbox_to_anchor=(1.0, 1.0))"
      ]
    },
    {
      "cell_type": "code",
      "execution_count": 90,
      "metadata": {
        "id": "IWLRwJN_ovgI",
        "colab": {
          "base_uri": "https://localhost:8080/",
          "height": 882
        },
        "outputId": "49314057-9bd4-4839-9ed4-50972397c276"
      },
      "outputs": [
        {
          "output_type": "execute_result",
          "data": {
            "text/plain": [
              "<Axes: >"
            ]
          },
          "metadata": {},
          "execution_count": 90
        },
        {
          "output_type": "display_data",
          "data": {
            "text/plain": [
              "<Figure size 1000x700 with 1 Axes>"
            ],
            "image/png": "[encoded data removed]"
          },
          "metadata": {}
        }
      ],
      "source": [
        "# Sort score by f1-score\n",
        "all_model_results.sort_values(\"f1\", ascending=True)[\"f1\"].plot(kind=\"bar\", figsize=(10,7))"
      ]
    },
    {
      "cell_type": "markdown",
      "source": [
        "## Save and Load Model"
      ],
      "metadata": {
        "id": "APM_MYCCpSsB"
      }
    },
    {
      "cell_type": "code",
      "source": [
        "# Save the best performing model\n",
        "model_5.save(\"skimlit_tribrid_model_best\")"
      ],
      "metadata": {
        "id": "3Dd-ZrYPppMK"
      },
      "execution_count": 91,
      "outputs": []
    },
    {
      "cell_type": "code",
      "source": [
        "# Load in best performing model\n",
        "loaded_model = tf.keras.models.load_model(\"skimlit_tribrid_model_best\")"
      ],
      "metadata": {
        "id": "bq5MPiRbsSKn"
      },
      "execution_count": 92,
      "outputs": []
    },
    {
      "cell_type": "code",
      "source": [
        "# Test the model on validation data\n",
        "loaded_model_preds_probs = loaded_model.predict(val_char_token_pos_dataset)\n",
        "loaded_model_preds = tf.argmax(loaded_model_preds_probs, axis=1)\n",
        "loaded_model_preds[:5]"
      ],
      "metadata": {
        "colab": {
          "base_uri": "https://localhost:8080/"
        },
        "id": "1nmsBYKsswbA",
        "outputId": "0d176927-e97f-407e-ead7-b431330c2330"
      },
      "execution_count": 93,
      "outputs": [
        {
          "output_type": "stream",
          "name": "stdout",
          "text": [
            "945/945 [==============================] - 38s 34ms/step\n"
          ]
        },
        {
          "output_type": "execute_result",
          "data": {
            "text/plain": [
              "<tf.Tensor: shape=(5,), dtype=int64, numpy=array([0, 0, 3, 2, 2])>"
            ]
          },
          "metadata": {},
          "execution_count": 93
        }
      ]
    },
    {
      "cell_type": "code",
      "source": [
        "# Calculate results\n",
        "loaded_model_val_res = evaluate_results(val_labels_encoded, loaded_model_preds)\n",
        "loaded_model_val_res"
      ],
      "metadata": {
        "colab": {
          "base_uri": "https://localhost:8080/"
        },
        "id": "IvlVwSdptNkh",
        "outputId": "ffdb0968-7210-40c8-d1d7-61b245edc7c5"
      },
      "execution_count": 95,
      "outputs": [
        {
          "output_type": "execute_result",
          "data": {
            "text/plain": [
              "{'accuracy': 0.8500926784059314,\n",
              " 'precision': 0.8538046951367546,\n",
              " 'recall': 0.8500926784059314,\n",
              " 'f1': 0.8463909693643541}"
            ]
          },
          "metadata": {},
          "execution_count": 95
        }
      ]
    },
    {
      "cell_type": "code",
      "source": [
        "# Test model on test data\n",
        "test_char_token_pos_data = tf.data.Dataset.from_tensor_slices((test_line_numbers_one_hot, test_total_lines_one_hot, test_sentences, test_chars))\n",
        "test_char_token_pos_labels = tf.data.Dataset.from_tensor_slices(test_labels_one_hot)\n",
        "test_char_token_pos_dataset = tf.data.Dataset.zip((test_char_token_pos_data, test_char_token_pos_labels))\n",
        "test_char_token_pos_dataset = test_char_token_pos_dataset.batch(32).prefetch(tf.data.AUTOTUNE)"
      ],
      "metadata": {
        "id": "WN_0A4ZgtU5L"
      },
      "execution_count": 96,
      "outputs": []
    },
    {
      "cell_type": "code",
      "source": [
        "loaded_model_preds_probs = loaded_model.predict(test_char_token_pos_dataset)\n",
        "loaded_model_preds = tf.argmax(loaded_model_preds_probs, axis=1)\n",
        "\n",
        "# Calculate results\n",
        "loaded_model_test_res = evaluate_results(test_labels_encoded, loaded_model_preds)\n",
        "loaded_model_test_res"
      ],
      "metadata": {
        "colab": {
          "base_uri": "https://localhost:8080/"
        },
        "id": "Gb1ZGFlat2oN",
        "outputId": "586bba04-d405-4c93-e42b-8a635b8caa7f"
      },
      "execution_count": 97,
      "outputs": [
        {
          "output_type": "stream",
          "name": "stdout",
          "text": [
            "942/942 [==============================] - 24s 26ms/step\n"
          ]
        },
        {
          "output_type": "execute_result",
          "data": {
            "text/plain": [
              "{'accuracy': 0.8448979591836735,\n",
              " 'precision': 0.8483592248626105,\n",
              " 'recall': 0.8448979591836735,\n",
              " 'f1': 0.8410598622108035}"
            ]
          },
          "metadata": {},
          "execution_count": 97
        }
      ]
    },
    {
      "cell_type": "code",
      "source": [],
      "metadata": {
        "id": "JxbjSu5It9tx"
      },
      "execution_count": null,
      "outputs": []
    }
  ],
  "metadata": {
    "accelerator": "GPU",
    "colab": {
      "collapsed_sections": [
        "XptR0epSFFld",
        "cd5qQEwqN6nY",
        "1FbBxA6Nh3qp",
        "rkY8vJLlju3c"
      ],
      "gpuType": "T4",
      "provenance": []
    },
    "kernelspec": {
      "display_name": "Python 3",
      "name": "python3"
    },
    "language_info": {
      "name": "python"
    }
  },
  "nbformat": 4,
  "nbformat_minor": 0
}